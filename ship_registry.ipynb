{
 "cells": [
  {
   "cell_type": "code",
   "execution_count": 2,
   "id": "335e4bed",
   "metadata": {},
   "outputs": [],
   "source": [
    "import pandas as pd\n",
    "import numpy as np\n",
    "from datetime import datetime, timedelta\n",
    "from IPython.display import display\n",
    "pd.set_option('display.max_columns', None)\n",
    "\n",
    "import pyspark.sql.functions as F\n",
    "\n",
    "import os\n",
    "import getpass"
   ]
  },
  {
   "cell_type": "code",
   "execution_count": 3,
   "id": "890caffd",
   "metadata": {},
   "outputs": [
    {
     "name": "stdout",
     "output_type": "stream",
     "text": [
      "CompletedProcess(args=['git', 'clone', 'https://github.com/CSBP-CPSE/ais-data.git'], returncode=0, stdout='', stderr=\"Cloning into 'ais-data'...\\n\")\n",
      "['.git', '.ipynb_checkpoints', 'ODI_Marine_Ports_v0.1.csv', 'README.md', 'ais_analysis.ipynb', 'export_data.ipynb', 'move_data.ipynb', 'vancouver_port.ipynb', 'Data']\n"
     ]
    }
   ],
   "source": [
    "# Get clone the repo\n",
    "try:\n",
    "    std_out = subprocess.run([\"git\", \"clone\", \"https://github.com/CSBP-CPSE/ais-data.git\"],\n",
    "                             capture_output=True,\n",
    "                             text=True)\n",
    "    print(std_out)\n",
    "    \n",
    "    # Create Data folder if it doesn't exist\n",
    "    if os.path.exists(\"./ais-data/Data/\") is False:\n",
    "        os.mkdir(\"./ais-data/Data/\")\n",
    "    \n",
    "    print(os.listdir(\"./ais-data/\"))\n",
    "except:\n",
    "    print(\"Cloning repo failed\")"
   ]
  },
  {
   "cell_type": "code",
   "execution_count": 4,
   "id": "a802a8c4",
   "metadata": {},
   "outputs": [
    {
     "data": {
      "text/html": [
       "<div>\n",
       "<style scoped>\n",
       "    .dataframe tbody tr th:only-of-type {\n",
       "        vertical-align: middle;\n",
       "    }\n",
       "\n",
       "    .dataframe tbody tr th {\n",
       "        vertical-align: top;\n",
       "    }\n",
       "\n",
       "    .dataframe thead th {\n",
       "        text-align: right;\n",
       "    }\n",
       "</style>\n",
       "<table border=\"1\" class=\"dataframe\">\n",
       "  <thead>\n",
       "    <tr style=\"text-align: right;\">\n",
       "      <th></th>\n",
       "      <th>PortName</th>\n",
       "      <th>Latitude</th>\n",
       "      <th>Longitude</th>\n",
       "    </tr>\n",
       "  </thead>\n",
       "  <tbody>\n",
       "    <tr>\n",
       "      <th>0</th>\n",
       "      <td>Port of Vancouver</td>\n",
       "      <td>49.2854</td>\n",
       "      <td>-123.0805</td>\n",
       "    </tr>\n",
       "    <tr>\n",
       "      <th>1</th>\n",
       "      <td>Port of Saint John</td>\n",
       "      <td>45.4796</td>\n",
       "      <td>-66.0628</td>\n",
       "    </tr>\n",
       "    <tr>\n",
       "      <th>2</th>\n",
       "      <td>Port of Quebec</td>\n",
       "      <td>46.8210</td>\n",
       "      <td>-71.2040</td>\n",
       "    </tr>\n",
       "    <tr>\n",
       "      <th>3</th>\n",
       "      <td>Port of Montreal</td>\n",
       "      <td>45.5470</td>\n",
       "      <td>-73.5300</td>\n",
       "    </tr>\n",
       "    <tr>\n",
       "      <th>4</th>\n",
       "      <td>Come-by-Chance</td>\n",
       "      <td>47.7985</td>\n",
       "      <td>-54.0186</td>\n",
       "    </tr>\n",
       "    <tr>\n",
       "      <th>5</th>\n",
       "      <td>Sept-Iles</td>\n",
       "      <td>50.2133</td>\n",
       "      <td>-66.3758</td>\n",
       "    </tr>\n",
       "    <tr>\n",
       "      <th>6</th>\n",
       "      <td>Strait of Canso Port</td>\n",
       "      <td>45.3363</td>\n",
       "      <td>-60.9944</td>\n",
       "    </tr>\n",
       "    <tr>\n",
       "      <th>7</th>\n",
       "      <td>Prince Rupert</td>\n",
       "      <td>54.2883</td>\n",
       "      <td>-130.3562</td>\n",
       "    </tr>\n",
       "    <tr>\n",
       "      <th>8</th>\n",
       "      <td>Port-Cartier</td>\n",
       "      <td>50.0326</td>\n",
       "      <td>-66.8908</td>\n",
       "    </tr>\n",
       "    <tr>\n",
       "      <th>9</th>\n",
       "      <td>Offshore (St. John's)</td>\n",
       "      <td>53.1355</td>\n",
       "      <td>-57.6604</td>\n",
       "    </tr>\n",
       "    <tr>\n",
       "      <th>10</th>\n",
       "      <td>Hamilton</td>\n",
       "      <td>43.2732</td>\n",
       "      <td>-79.8622</td>\n",
       "    </tr>\n",
       "    <tr>\n",
       "      <th>11</th>\n",
       "      <td>Halifax</td>\n",
       "      <td>44.6360</td>\n",
       "      <td>-63.5510</td>\n",
       "    </tr>\n",
       "    <tr>\n",
       "      <th>12</th>\n",
       "      <td>Thunder Bay</td>\n",
       "      <td>48.4100</td>\n",
       "      <td>-89.1950</td>\n",
       "    </tr>\n",
       "    <tr>\n",
       "      <th>13</th>\n",
       "      <td>Sorel</td>\n",
       "      <td>46.0333</td>\n",
       "      <td>-73.1166</td>\n",
       "    </tr>\n",
       "    <tr>\n",
       "      <th>14</th>\n",
       "      <td>Nanticoke</td>\n",
       "      <td>42.7944</td>\n",
       "      <td>-80.0543</td>\n",
       "    </tr>\n",
       "    <tr>\n",
       "      <th>15</th>\n",
       "      <td>Baie-Comeau</td>\n",
       "      <td>49.2333</td>\n",
       "      <td>-68.1333</td>\n",
       "    </tr>\n",
       "    <tr>\n",
       "      <th>16</th>\n",
       "      <td>Sault-Ste-Marie</td>\n",
       "      <td>46.5166</td>\n",
       "      <td>-84.3833</td>\n",
       "    </tr>\n",
       "    <tr>\n",
       "      <th>17</th>\n",
       "      <td>East Coast Vancouver Island (Victoria)</td>\n",
       "      <td>48.4236</td>\n",
       "      <td>-123.3681</td>\n",
       "    </tr>\n",
       "    <tr>\n",
       "      <th>18</th>\n",
       "      <td>Windsor</td>\n",
       "      <td>42.2827</td>\n",
       "      <td>-83.0871</td>\n",
       "    </tr>\n",
       "    <tr>\n",
       "      <th>19</th>\n",
       "      <td>Port-Alfred</td>\n",
       "      <td>48.3333</td>\n",
       "      <td>-70.8666</td>\n",
       "    </tr>\n",
       "  </tbody>\n",
       "</table>\n",
       "</div>"
      ],
      "text/plain": [
       "                                  PortName  Latitude  Longitude\n",
       "0                        Port of Vancouver   49.2854  -123.0805\n",
       "1                       Port of Saint John   45.4796   -66.0628\n",
       "2                           Port of Quebec   46.8210   -71.2040\n",
       "3                         Port of Montreal   45.5470   -73.5300\n",
       "4                           Come-by-Chance   47.7985   -54.0186\n",
       "5                                Sept-Iles   50.2133   -66.3758\n",
       "6                     Strait of Canso Port   45.3363   -60.9944\n",
       "7                            Prince Rupert   54.2883  -130.3562\n",
       "8                             Port-Cartier   50.0326   -66.8908\n",
       "9                    Offshore (St. John's)   53.1355   -57.6604\n",
       "10                                Hamilton   43.2732   -79.8622\n",
       "11                                 Halifax   44.6360   -63.5510\n",
       "12                             Thunder Bay   48.4100   -89.1950\n",
       "13                                   Sorel   46.0333   -73.1166\n",
       "14                               Nanticoke   42.7944   -80.0543\n",
       "15                             Baie-Comeau   49.2333   -68.1333\n",
       "16                         Sault-Ste-Marie   46.5166   -84.3833\n",
       "17  East Coast Vancouver Island (Victoria)   48.4236  -123.3681\n",
       "18                                 Windsor   42.2827   -83.0871\n",
       "19                             Port-Alfred   48.3333   -70.8666"
      ]
     },
     "metadata": {},
     "output_type": "display_data"
    },
    {
     "name": "stdout",
     "output_type": "stream",
     "text": [
      "380\n"
     ]
    }
   ],
   "source": [
    "basepath = \"s3a://ungp-ais-data-historical-backup/register/\"\n",
    "basepath_archive = \"s3a://ungp-ais-data-historical-backup/register-archive/\""
   ]
  },
  {
   "cell_type": "code",
   "execution_count": 5,
   "id": "05eb8dbe",
   "metadata": {},
   "outputs": [
    {
     "name": "stdout",
     "output_type": "stream",
     "text": [
      "+------------------+------------+---------+-------------------+------------------+------------------+-------+-------------------+--------+-----------+----------------+-----------------+------------+------+-----+------------+---------+-----------+-------+-------+---+-----+---+-------+--------------------+---------------+------+-------------------+-------------------+----------------+---------------+----+--------------------+---------------+------------------+------------------+------------------+------------------+------------------+------------------+------------------+------------------+------------------+------------------+------------------+------------------+------------------+------------------+------------------+\n",
      "|    H3_int_index_8|message_type|     mmsi|      dt_insert_utc|         longitude|          latitude|    imo|        vessel_name|callsign|vessel_type|vessel_type_code|vessel_type_cargo|vessel_class|length|width|flag_country|flag_code|destination|    eta|draught|sog|  cog|rot|heading|          nav_status|nav_status_code|source|         dt_pos_utc|      dt_static_utc|vessel_type_main|vessel_type_sub|eeid|     source_filename|      H3index_0|    H3_int_index_0|    H3_int_index_1|    H3_int_index_2|    H3_int_index_3|    H3_int_index_4|    H3_int_index_5|    H3_int_index_6|    H3_int_index_7|    H3_int_index_9|   H3_int_index_10|   H3_int_index_11|   H3_int_index_12|   H3_int_index_13|   H3_int_index_14|   H3_int_index_15|\n",
      "+------------------+------------+---------+-------------------+------------------+------------------+-------+-------------------+--------+-----------+----------------+-----------------+------------+------+-----+------------+---------+-----------+-------+-------+---+-----+---+-------+--------------------+---------------+------+-------------------+-------------------+----------------+---------------+----+--------------------+---------------+------------------+------------------+------------------+------------------+------------------+------------------+------------------+------------------+------------------+------------------+------------------+------------------+------------------+------------------+------------------+\n",
      "|612741174655975423|           1|316013370|2019-03-01 08:02:25|-66.38202333333334| 50.19885333333333|9420904|OCEAN RAYMOND LEMAY| CFN3074|     Towing|            null|             null|           A|  31.0| 10.0|      Canada|     null|  SEPT ILES|7181100|    5.7|0.0|205.5|0.0|   50.0|Under Way Using E...|              0| S-AIS|2019-03-01 08:02:25|2019-03-01 08:02:25|             Tug|           null|null|s3a://ungp-ais-da...|802bfffffffffff|577234808489377791|581219438628438015|585719739720925183|590223201909342207|594726784356843519|599230376468021247|603733975424303103|608237575034896383|617244774282297343|621748373909602303|626251973536960511|630755573164330495|635259172791700607|639762772419071047|644266372046441537|\n",
      "|612741174655975423|           1|316013370|2019-03-01 10:09:35|-66.38204166666667|50.198861666666666|9420904|OCEAN RAYMOND LEMAY| CFN3074|     Towing|            null|             null|           A|  31.0| 10.0|      Canada|     null|  SEPT ILES|7181100|    5.7|0.1|205.5|0.0|   50.0|Under Way Using E...|              0| S-AIS|2019-03-01 10:09:35|2019-03-01 10:09:35|             Tug|           null|null|s3a://ungp-ais-da...|802bfffffffffff|577234808489377791|581219438628438015|585719739720925183|590223201909342207|594726784356843519|599230376468021247|603733975424303103|608237575034896383|617244774282297343|621748373909602303|626251973536960511|630755573164330495|635259172791700607|639762772419071047|644266372046441536|\n",
      "|612741174655975423|           1|316013370|2019-03-01 05:04:35|-66.38204833333333|50.198881666666665|9420904|OCEAN RAYMOND LEMAY| CFN3074|     Towing|            null|             null|           A|  31.0| 10.0|      Canada|     null|  SEPT ILES|7181100|    5.7|0.0|205.5|0.0|   50.0|Under Way Using E...|              0| S-AIS|2019-03-01 05:04:35|2019-03-01 05:04:35|             Tug|           null|null|s3a://ungp-ais-da...|802bfffffffffff|577234808489377791|581219438628438015|585719739720925183|590223201909342207|594726784356843519|599230376468021247|603733975424303103|608237575034896383|617244774282297343|621748373909602303|626251973536960511|630755573164330495|635259172791700607|639762772419071095|644266372046441587|\n",
      "|612741174655975423|           1|316013370|2019-03-01 14:19:54|-66.38204833333333| 50.19889833333333|9420904|OCEAN RAYMOND LEMAY| CFN3074|     Towing|            null|             null|           A|  31.0| 10.0|      Canada|     null|  SEPT ILES| 181100|    5.7|0.1|269.5|0.0|   49.0|Under Way Using E...|              0| S-AIS|2019-03-01 14:19:54|2019-03-01 14:19:54|             Tug|           null|null|s3a://ungp-ais-da...|802bfffffffffff|577234808489377791|581219438628438015|585719739720925183|590223201909342207|594726784356843519|599230376468021247|603733975424303103|608237575034896383|617244774282297343|621748373909602303|626251973536960511|630755573164330495|635259172791700543|639762772419071095|644266372046441590|\n",
      "|612741174655975423|           1|316013370|2019-03-01 01:29:35|-66.38202666666666| 50.19890166666666|9420904|OCEAN RAYMOND LEMAY| CFN3074|     Towing|            null|             null|           A|  31.0| 10.0|      Canada|     null|  SEPT ILES|7181100|    5.7|0.0|205.5|0.0|   50.0|Under Way Using E...|              0| S-AIS|2019-03-01 01:29:35|2019-03-01 01:29:35|             Tug|           null|null|s3a://ungp-ais-da...|802bfffffffffff|577234808489377791|581219438628438015|585719739720925183|590223201909342207|594726784356843519|599230376468021247|603733975424303103|608237575034896383|617244774282297343|621748373909602303|626251973536960511|630755573164330495|635259172791700863|639762772419071327|644266372046441818|\n",
      "|612741174655975423|           1|316013370|2019-03-01 04:36:45|-66.38206666666666|         50.198865|9420904|OCEAN RAYMOND LEMAY| CFN3074|     Towing|            null|             null|           A|  31.0| 10.0|      Canada|     null|  SEPT ILES|7181100|    5.7|0.1|205.5|0.0|   50.0|Under Way Using E...|              0| S-AIS|2019-03-01 04:36:45|2019-03-01 04:36:45|             Tug|           null|null|s3a://ungp-ais-da...|802bfffffffffff|577234808489377791|581219438628438015|585719739720925183|590223201909342207|594726784356843519|599230376468021247|603733975424303103|608237575034896383|617244774282297343|621748373909602303|626251973536960511|630755573164330495|635259172791700607|639762772419071063|644266372046441553|\n",
      "|612741174655975423|           1|316013370|2019-03-01 13:01:03|        -66.382045|50.198908333333335|9420904|OCEAN RAYMOND LEMAY| CFN3074|     Towing|            null|             null|           A|  31.0| 10.0|      Canada|     null|  SEPT ILES|7181100|    5.7|0.0|253.5|0.0|   49.0|Under Way Using E...|              0| S-AIS|2019-03-01 13:01:03|2019-03-01 13:01:03|             Tug|           null|null|s3a://ungp-ais-da...|802bfffffffffff|577234808489377791|581219438628438015|585719739720925183|590223201909342207|594726784356843519|599230376468021247|603733975424303103|608237575034896383|617244774282297343|621748373909602303|626251973536960511|630755573164330495|635259172791700543|639762772419071023|644266372046441515|\n",
      "|612741174655975423|           1|316013370|2019-03-01 14:17:24|         -66.38201|50.198888333333336|9420904|OCEAN RAYMOND LEMAY| CFN3074|     Towing|            null|             null|           A|  31.0| 10.0|      Canada|     null|  SEPT ILES|7181100|    5.7|0.0|269.5|0.0|   49.0|Under Way Using E...|              0| S-AIS|2019-03-01 14:17:24|2019-03-01 14:17:24|             Tug|           null|null|s3a://ungp-ais-da...|802bfffffffffff|577234808489377791|581219438628438015|585719739720925183|590223201909342207|594726784356843519|599230376468021247|603733975424303103|608237575034896383|617244774282297343|621748373909602303|626251973536960511|630755573164330495|635259172791700607|639762772419071079|644266372046441574|\n",
      "|612741174655975423|           1|316013370|2019-03-01 13:26:55|         -66.38206| 50.19884166666667|9420904|OCEAN RAYMOND LEMAY| CFN3074|     Towing|            null|             null|           A|  31.0| 10.0|      Canada|     null|  SEPT ILES|7181100|    5.7|0.0|269.5|0.0|   49.0|Under Way Using E...|              0| S-AIS|2019-03-01 13:26:55|2019-03-01 13:26:55|             Tug|           null|null|s3a://ungp-ais-da...|802bfffffffffff|577234808489377791|581219438628438015|585719739720925183|590223201909342207|594726784356843519|599230376468021247|603733975424303103|608237575034896383|617244774282297343|621748373909602303|626251973536960511|630755573164330495|635259172791700607|639762772419071071|644266372046441561|\n",
      "|612741174655975423|           1|316013370|2019-03-01 01:44:34|-66.38204833333333| 50.19886833333333|9420904|OCEAN RAYMOND LEMAY| CFN3074|     Towing|            null|             null|           A|  31.0| 10.0|      Canada|     null|  SEPT ILES|7181100|    5.7|0.0|205.5|0.0|   50.0|Under Way Using E...|              0| S-AIS|2019-03-01 01:44:34|2019-03-01 01:44:34|             Tug|           null|null|s3a://ungp-ais-da...|802bfffffffffff|577234808489377791|581219438628438015|585719739720925183|590223201909342207|594726784356843519|599230376468021247|603733975424303103|608237575034896383|617244774282297343|621748373909602303|626251973536960511|630755573164330495|635259172791700607|639762772419071047|644266372046441538|\n",
      "|612741174655975423|           1|316013370|2019-03-01 03:04:55|-66.38208333333333| 50.19887333333333|9420904|OCEAN RAYMOND LEMAY| CFN3074|     Towing|            null|             null|           A|  31.0| 10.0|      Canada|     null|  SEPT ILES|7181100|    5.7|0.1|205.5|0.0|   50.0|Under Way Using E...|              0| S-AIS|2019-03-01 03:04:55|2019-03-01 03:04:55|             Tug|           null|null|s3a://ungp-ais-da...|802bfffffffffff|577234808489377791|581219438628438015|585719739720925183|590223201909342207|594726784356843519|599230376468021247|603733975424303103|608237575034896383|617244774282297343|621748373909602303|626251973536960511|630755573164330495|635259172791700607|639762772419071063|644266372046441554|\n",
      "|612741174655975423|           1|316013370|2019-03-01 09:23:56|-66.38203666666666| 50.19887666666666|9420904|OCEAN RAYMOND LEMAY| CFN3074|     Towing|            null|             null|           A|  31.0| 10.0|      Canada|     null|  SEPT ILES|7181100|    5.7|0.0|205.5|0.0|   50.0|Under Way Using E...|              0| S-AIS|2019-03-01 09:23:56|2019-03-01 09:23:56|             Tug|           null|null|s3a://ungp-ais-da...|802bfffffffffff|577234808489377791|581219438628438015|585719739720925183|590223201909342207|594726784356843519|599230376468021247|603733975424303103|608237575034896383|617244774282297343|621748373909602303|626251973536960511|630755573164330495|635259172791700607|639762772419071047|644266372046441585|\n",
      "|612741174655975423|           1|316013370|2019-03-01 05:05:15|-66.38204166666667| 50.19887833333333|9420904|OCEAN RAYMOND LEMAY| CFN3074|     Towing|            null|             null|           A|  31.0| 10.0|      Canada|     null|  SEPT ILES|7181100|    5.7|0.0|205.5|0.0|   50.0|Under Way Using E...|              0| S-AIS|2019-03-01 05:05:15|2019-03-01 05:05:15|             Tug|           null|null|s3a://ungp-ais-da...|802bfffffffffff|577234808489377791|581219438628438015|585719739720925183|590223201909342207|594726784356843519|599230376468021247|603733975424303103|608237575034896383|617244774282297343|621748373909602303|626251973536960511|630755573164330495|635259172791700607|639762772419071095|644266372046441587|\n",
      "|612741174655975423|           1|316013370|2019-03-01 10:06:04|-66.38204833333333|          50.19887|9420904|OCEAN RAYMOND LEMAY| WDB6180|     Towing|            null|             null|           A|  31.0| 10.0|      Canada|     null|  SEPT ILES|7181100|    5.7|0.1|205.5|0.0|   50.0|Under Way Using E...|              0| S-AIS|2019-03-01 10:06:04|2019-03-01 10:06:04|             Tug|           null|null|s3a://ungp-ais-da...|802bfffffffffff|577234808489377791|581219438628438015|585719739720925183|590223201909342207|594726784356843519|599230376468021247|603733975424303103|608237575034896383|617244774282297343|621748373909602303|626251973536960511|630755573164330495|635259172791700607|639762772419071047|644266372046441542|\n",
      "|612741174655975423|           1|316013370|2019-03-01 02:46:54|-66.38205333333333|50.198883333333335|9420904|OCEAN RAYMOND LEMAY| CFN3074|     Towing|            null|             null|           A|  31.0| 10.0|      Canada|     null|  SEPT ILES|7181100|    5.7|0.1|205.5|0.0|   50.0|Under Way Using E...|              0| S-AIS|2019-03-01 02:46:54|2019-03-01 02:46:54|             Tug|           null|null|s3a://ungp-ais-da...|802bfffffffffff|577234808489377791|581219438628438015|585719739720925183|590223201909342207|594726784356843519|599230376468021247|603733975424303103|608237575034896383|617244774282297343|621748373909602303|626251973536960511|630755573164330495|635259172791700607|639762772419071095|644266372046441587|\n",
      "|612741174655975423|           1|316013370|2019-03-01 20:15:35|         -66.38204| 50.19886666666667|9420904|OCEAN RAYMOND LEMAY| CFN3074|     Towing|            null|             null|           A|  31.0| 10.0|      Canada|     null|  SEPT ILES|7181100|    5.7|0.1| 91.9|0.0|   49.0|Under Way Using E...|              0| S-AIS|2019-03-01 20:15:35|2019-03-01 20:15:35|             Tug|           null|null|s3a://ungp-ais-da...|802bfffffffffff|577234808489377791|581219438628438015|585719739720925183|590223201909342207|594726784356843519|599230376468021247|603733975424303103|608237575034896383|617244774282297343|621748373909602303|626251973536960511|630755573164330495|635259172791700607|639762772419071047|644266372046441536|\n",
      "|612741174655975423|           1|316013370|2019-03-01 12:45:14|         -66.38206|50.198888333333336|9420904|OCEAN RAYMOND LEMAY| CFN3074|     Towing|            null|             null|           A|  31.0| 10.0|      Canada|     null|  SEPT ILES|7181100|    5.7|0.0|253.5|0.0|   49.0|Under Way Using E...|              0| S-AIS|2019-03-01 12:45:14|2019-03-01 12:45:14|             Tug|           null|null|s3a://ungp-ais-da...|802bfffffffffff|577234808489377791|581219438628438015|585719739720925183|590223201909342207|594726784356843519|599230376468021247|603733975424303103|608237575034896383|617244774282297343|621748373909602303|626251973536960511|630755573164330495|635259172791700607|639762772419071095|644266372046441586|\n",
      "|612741174655975423|           1|316013370|2019-03-01 03:40:44|-66.38203833333333|         50.198885|9420904|OCEAN RAYMOND LEMAY| CFN3074|     Towing|            null|             null|           A|  31.0| 10.0|      Canada|     null|  SEPT ILES|7181100|    5.7|0.0|205.5|0.0|   50.0|Under Way Using E...|              0| S-AIS|2019-03-01 03:40:44|2019-03-01 03:40:44|             Tug|           null|null|s3a://ungp-ais-da...|802bfffffffffff|577234808489377791|581219438628438015|585719739720925183|590223201909342207|594726784356843519|599230376468021247|603733975424303103|608237575034896383|617244774282297343|621748373909602303|626251973536960511|630755573164330495|635259172791700607|639762772419071095|644266372046441584|\n",
      "|612741174655975423|           1|316013370|2019-03-01 23:46:25|-66.38203833333333| 50.19885666666666|9420904|OCEAN RAYMOND LEMAY| CFN3074|     Towing|            null|             null|           A|  31.0| 10.0|      Canada|     null|  SEPT ILES|7181100|    5.7|0.1|203.3|0.0|   49.0|Under Way Using E...|              0| S-AIS|2019-03-01 23:46:25|2019-03-01 23:46:25|             Tug|           null|null|s3a://ungp-ais-da...|802bfffffffffff|577234808489377791|581219438628438015|585719739720925183|590223201909342207|594726784356843519|599230376468021247|603733975424303103|608237575034896383|617244774282297343|621748373909602303|626251973536960511|630755573164330495|635259172791700607|639762772419071047|644266372046441539|\n",
      "|612741174655975423|           1|316013370|2019-03-01 01:07:34|-66.38205833333333|         50.198865|9420904|OCEAN RAYMOND LEMAY| CFN3074|     Towing|            null|             null|           A|  31.0| 10.0|      Canada|     null|  SEPT ILES|7181100|    5.7|0.1|205.5|0.0|   50.0|Under Way Using E...|              0| S-AIS|2019-03-01 01:07:34|2019-03-01 01:07:34|             Tug|           null|null|s3a://ungp-ais-da...|802bfffffffffff|577234808489377791|581219438628438015|585719739720925183|590223201909342207|594726784356843519|599230376468021247|603733975424303103|608237575034896383|617244774282297343|621748373909602303|626251973536960511|630755573164330495|635259172791700607|639762772419071063|644266372046441553|\n",
      "+------------------+------------+---------+-------------------+------------------+------------------+-------+-------------------+--------+-----------+----------------+-----------------+------------+------+-----+------------+---------+-----------+-------+-------+---+-----+---+-------+--------------------+---------------+------+-------------------+-------------------+----------------+---------------+----+--------------------+---------------+------------------+------------------+------------------+------------------+------------------+------------------+------------------+------------------+------------------+------------------+------------------+------------------+------------------+------------------+------------------+\n",
      "only showing top 20 rows\n",
      "\n",
      "CPU times: user 38.6 ms, sys: 5.87 ms, total: 44.5 ms\n",
      "Wall time: 26.9 s\n"
     ]
    }
   ],
   "source": [
    "# Get current version\n",
    "df = spark.read.load(basepath+\"version.csv\", \n",
    "                     format=\"csv\", sep=\",\", inferSchema=\"true\")\n",
    "df.show()\n",
    "\n",
    "# Get the first element\n",
    "print(df.collect()[0][0])"
   ]
  },
  {
   "cell_type": "code",
   "execution_count": null,
   "id": "07b33fef",
   "metadata": {},
   "outputs": [],
   "source": [
    "ship_data = spark.read.load(basepath+ \"ShipData.CSV\", \n",
    "                     format=\"csv\", sep=\",\", inferSchema=\"true\", header=\"true\")\n",
    "ship_data = ship_data.toPandas()\n",
    "\n",
    "# Save\n",
    "ship_data.to_csv(\"./ais-data/Data/ship_data_{}.csv\".format(df.collect()[0][0]), index=False)"
   ]
  },
  {
   "cell_type": "code",
   "execution_count": null,
   "id": "e385ca52",
   "metadata": {},
   "outputs": [],
   "source": [
    "# Get all previous versions too\n",
    "df = spark.read.load(basepath_archive+\"versions.csv\", \n",
    "                     format=\"csv\", sep=\",\", inferSchema=\"true\")\n",
    "df = df.toPandas()\n",
    "\n",
    "df"
   ]
  },
  {
   "cell_type": "code",
   "execution_count": null,
   "id": "e2fab1af",
   "metadata": {},
   "outputs": [],
   "source": [
    "df.dtypes"
   ]
  },
  {
   "cell_type": "code",
   "execution_count": null,
   "id": "4e88dc54",
   "metadata": {},
   "outputs": [],
   "source": [
    "df['date'] = df['_c0'].str[:4] + \"/\" + df['_c0']"
   ]
  },
  {
   "cell_type": "code",
   "execution_count": null,
   "id": "d3f800a9",
   "metadata": {},
   "outputs": [],
   "source": [
    "for i in range(len(df.index)):\n",
    "    \n",
    "    basepath_archive_version = basepath_archive + df['date'][i]\n",
    "    ship_data = spark.read.load(basepath_archive_version+\"/ShipData.CSV\", \n",
    "                         format=\"csv\", sep=\",\", inferSchema=\"true\", header=\"true\")\n",
    "    ship_data = ship_data.toPandas()\n",
    "    ship_data.to_csv(\"./ais-data/Data/ship_data_{}.csv\".format(df['_c0'][i]), index=False)"
   ]
  },
  {
   "cell_type": "code",
   "execution_count": 10,
   "id": "b7668846",
   "metadata": {},
   "outputs": [
    {
     "name": "stdout",
     "output_type": "stream",
     "text": [
      "['top20_ports_2019-03-01_to_2019-03-31_chunk_0.csv', 'top20_ports_2019-03-01_to_2019-03-31_chunk_1.csv', 'top20_ports_2019-03-01_to_2019-03-31_chunk_2.csv', 'top20_ports_2019-03-01_to_2019-03-31_chunk_3.csv', 'top20_ports_2019-03-01_to_2019-03-31_chunk_4.csv', 'top20_ports_2019-03-01_to_2019-03-31_chunk_5.csv', 'top20_ports_2019-03-01_to_2019-03-31_chunk_6.csv', 'top20_ports_2019-03-01_to_2019-03-31_chunk_7.csv', 'top20_ports_2019-03-01_to_2019-03-31_chunk_8.csv', 'top20_ports_2019-03-01_to_2019-03-31_chunk_9.csv', 'top20_ports_2019-03-01_to_2019-03-31_chunk_10.csv', 'top20_ports_2019-03-01_to_2019-03-31_chunk_11.csv', 'top20_ports_2019-03-01_to_2019-03-31_chunk_12.csv', 'top20_ports_2019-03-01_to_2019-03-31_chunk_13.csv', 'top20_ports_2019-03-01_to_2019-03-31_chunk_14.csv', 'top20_ports_2019-03-01_to_2019-03-31_chunk_15.csv', 'top20_ports_2019-03-01_to_2019-03-31_chunk_16.csv', 'top20_ports_2019-03-01_to_2019-03-31_chunk_17.csv', 'top20_ports_2019-03-01_to_2019-03-31_chunk_18.csv']\n"
     ]
    }
   ],
   "source": [
    "# Change directory\n",
    "os.chdir(\"./ais-data\")\n",
    "print(os.listdir(\"./Data/\"))"
   ]
  },
  {
   "cell_type": "code",
   "execution_count": 11,
   "id": "f2778ce5",
   "metadata": {},
   "outputs": [
    {
     "name": "stdout",
     "output_type": "stream",
     "text": [
      "CompletedProcess(args=['git', 'config', '--global', 'user.email', '\"dennishuynh3@gmail.com\"'], returncode=0, stdout='', stderr='')\n",
      "CompletedProcess(args=['git', 'config', '--global', 'user.name', '\"DennisH3\"'], returncode=0, stdout='', stderr='')\n",
      "CompletedProcess(args=['git', 'add', '.'], returncode=0, stdout='', stderr='')\n",
      "[main 64df685] Upload data\n",
      " 19 files changed, 1803226 insertions(+)\n",
      " create mode 100644 Data/top20_ports_2019-03-01_to_2019-03-31_chunk_0.csv\n",
      " create mode 100644 Data/top20_ports_2019-03-01_to_2019-03-31_chunk_1.csv\n",
      " create mode 100644 Data/top20_ports_2019-03-01_to_2019-03-31_chunk_10.csv\n",
      " create mode 100644 Data/top20_ports_2019-03-01_to_2019-03-31_chunk_11.csv\n",
      " create mode 100644 Data/top20_ports_2019-03-01_to_2019-03-31_chunk_12.csv\n",
      " create mode 100644 Data/top20_ports_2019-03-01_to_2019-03-31_chunk_13.csv\n",
      " create mode 100644 Data/top20_ports_2019-03-01_to_2019-03-31_chunk_14.csv\n",
      " create mode 100644 Data/top20_ports_2019-03-01_to_2019-03-31_chunk_15.csv\n",
      " create mode 100644 Data/top20_ports_2019-03-01_to_2019-03-31_chunk_16.csv\n",
      " create mode 100644 Data/top20_ports_2019-03-01_to_2019-03-31_chunk_17.csv\n",
      " create mode 100644 Data/top20_ports_2019-03-01_to_2019-03-31_chunk_18.csv\n",
      " create mode 100644 Data/top20_ports_2019-03-01_to_2019-03-31_chunk_2.csv\n",
      " create mode 100644 Data/top20_ports_2019-03-01_to_2019-03-31_chunk_3.csv\n",
      " create mode 100644 Data/top20_ports_2019-03-01_to_2019-03-31_chunk_4.csv\n",
      " create mode 100644 Data/top20_ports_2019-03-01_to_2019-03-31_chunk_5.csv\n",
      " create mode 100644 Data/top20_ports_2019-03-01_to_2019-03-31_chunk_6.csv\n",
      " create mode 100644 Data/top20_ports_2019-03-01_to_2019-03-31_chunk_7.csv\n",
      " create mode 100644 Data/top20_ports_2019-03-01_to_2019-03-31_chunk_8.csv\n",
      " create mode 100644 Data/top20_ports_2019-03-01_to_2019-03-31_chunk_9.csv\n",
      "\n"
     ]
    }
   ],
   "source": [
    "# Git Config\n",
    "std_out = subprocess.run([\"git\", \"config\", \"--global\", \"user.email\", '\"dennishuynh3@gmail.com\"'], capture_output=True, text=True)\n",
    "print(std_out)\n",
    "std_out = subprocess.run([\"git\", \"config\", \"--global\", \"user.name\", '\"DennisH3\"'], capture_output=True, text=True)\n",
    "print(std_out)\n",
    "\n",
    "# Git add and commit\n",
    "std_out = subprocess.run([\"git\", \"add\", \".\"], capture_output=True, text=True)\n",
    "print(std_out)\n",
    "std_out = subprocess.run([\"git\", \"commit\", \"-m\", \"Upload data\"], capture_output=True, text=True).stdout\n",
    "print(std_out)"
   ]
  },
  {
   "cell_type": "code",
   "execution_count": 12,
   "id": "77f45993",
   "metadata": {},
   "outputs": [
    {
     "name": "stdout",
     "output_type": "stream",
     "text": [
      "Please enter PAT········\n"
     ]
    }
   ],
   "source": [
    "# Get credentials\n",
    "un = \"DennisH3\"\n",
    "pw = getpass.getpass(prompt=\"Please enter PAT\")"
   ]
  },
  {
   "cell_type": "code",
   "execution_count": 13,
   "id": "0d5d55c5",
   "metadata": {},
   "outputs": [
    {
     "name": "stdout",
     "output_type": "stream",
     "text": [
      "remote: warning: See http://git.io/iEPt8g for more information.        \n",
      "remote: warning: File Data/top20_ports_2019-03-01_to_2019-03-31_chunk_11.csv is 61.31 MB; this is larger than GitHub's recommended maximum file size of 50.00 MB        \n",
      "remote: warning: File Data/top20_ports_2019-03-01_to_2019-03-31_chunk_14.csv is 61.35 MB; this is larger than GitHub's recommended maximum file size of 50.00 MB        \n",
      "remote: warning: File Data/top20_ports_2019-03-01_to_2019-03-31_chunk_8.csv is 61.26 MB; this is larger than GitHub's recommended maximum file size of 50.00 MB        \n",
      "remote: warning: File Data/top20_ports_2019-03-01_to_2019-03-31_chunk_6.csv is 61.15 MB; this is larger than GitHub's recommended maximum file size of 50.00 MB        \n",
      "remote: warning: File Data/top20_ports_2019-03-01_to_2019-03-31_chunk_3.csv is 61.26 MB; this is larger than GitHub's recommended maximum file size of 50.00 MB        \n",
      "remote: warning: File Data/top20_ports_2019-03-01_to_2019-03-31_chunk_4.csv is 61.17 MB; this is larger than GitHub's recommended maximum file size of 50.00 MB        \n",
      "remote: warning: File Data/top20_ports_2019-03-01_to_2019-03-31_chunk_2.csv is 61.16 MB; this is larger than GitHub's recommended maximum file size of 50.00 MB        \n",
      "remote: warning: File Data/top20_ports_2019-03-01_to_2019-03-31_chunk_12.csv is 61.23 MB; this is larger than GitHub's recommended maximum file size of 50.00 MB        \n",
      "remote: warning: File Data/top20_ports_2019-03-01_to_2019-03-31_chunk_13.csv is 61.14 MB; this is larger than GitHub's recommended maximum file size of 50.00 MB        \n",
      "remote: warning: File Data/top20_ports_2019-03-01_to_2019-03-31_chunk_16.csv is 61.13 MB; this is larger than GitHub's recommended maximum file size of 50.00 MB        \n",
      "remote: warning: File Data/top20_ports_2019-03-01_to_2019-03-31_chunk_15.csv is 61.25 MB; this is larger than GitHub's recommended maximum file size of 50.00 MB        \n",
      "remote: warning: File Data/top20_ports_2019-03-01_to_2019-03-31_chunk_9.csv is 61.33 MB; this is larger than GitHub's recommended maximum file size of 50.00 MB        \n",
      "remote: warning: File Data/top20_ports_2019-03-01_to_2019-03-31_chunk_1.csv is 61.16 MB; this is larger than GitHub's recommended maximum file size of 50.00 MB        \n",
      "remote: warning: File Data/top20_ports_2019-03-01_to_2019-03-31_chunk_0.csv is 61.18 MB; this is larger than GitHub's recommended maximum file size of 50.00 MB        \n",
      "remote: warning: File Data/top20_ports_2019-03-01_to_2019-03-31_chunk_18.csv is 61.19 MB; this is larger than GitHub's recommended maximum file size of 50.00 MB        \n",
      "remote: warning: File Data/top20_ports_2019-03-01_to_2019-03-31_chunk_10.csv is 61.29 MB; this is larger than GitHub's recommended maximum file size of 50.00 MB        \n",
      "remote: warning: File Data/top20_ports_2019-03-01_to_2019-03-31_chunk_17.csv is 61.15 MB; this is larger than GitHub's recommended maximum file size of 50.00 MB        \n",
      "remote: warning: File Data/top20_ports_2019-03-01_to_2019-03-31_chunk_7.csv is 61.07 MB; this is larger than GitHub's recommended maximum file size of 50.00 MB        \n",
      "remote: warning: File Data/top20_ports_2019-03-01_to_2019-03-31_chunk_5.csv is 61.08 MB; this is larger than GitHub's recommended maximum file size of 50.00 MB        \n",
      "remote: warning: GH001: Large files detected. You may want to try Git Large File Storage - https://git-lfs.github.com.        \n",
      "To https://github.com/CSBP-CPSE/ais-data.git\n",
      "   e88796f..64df685  main -> main\n",
      "\n"
     ]
    }
   ],
   "source": [
    "push = \"git push --repo https://{}:{}@github.com/CSBP-CPSE/ais-data.git\".format(un, pw)\n",
    "\n",
    "std_out = subprocess.run([push], capture_output=True, text=True, shell=True).stderr\n",
    "print(std_out)"
   ]
  },
  {
   "cell_type": "code",
   "execution_count": null,
   "id": "d509570f",
   "metadata": {},
   "outputs": [],
   "source": []
  }
 ],
 "metadata": {
  "kernelspec": {
   "display_name": "Config template \"newparquet-20220310\"",
   "language": "python3",
   "name": "newparquet-20220310"
  },
  "language_info": {
   "codemirror_mode": {
    "name": "ipython",
    "version": 3
   },
   "file_extension": ".py",
   "mimetype": "text/x-python",
   "name": "python",
   "nbconvert_exporter": "python",
   "pygments_lexer": "ipython3",
   "version": "3.8.8"
  }
 },
 "nbformat": 4,
 "nbformat_minor": 5
}
