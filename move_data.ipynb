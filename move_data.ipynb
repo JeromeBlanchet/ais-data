{
 "cells": [
  {
   "cell_type": "code",
   "execution_count": 16,
   "id": "0796344b",
   "metadata": {},
   "outputs": [],
   "source": [
    "import sys\n",
    "import os\n",
    "import shutil\n",
    "import subprocess\n",
    "import getpass"
   ]
  },
  {
   "cell_type": "code",
   "execution_count": 25,
   "id": "0be62032",
   "metadata": {},
   "outputs": [
    {
     "name": "stdout",
     "output_type": "stream",
     "text": [
      "Please enter PAT········\n"
     ]
    }
   ],
   "source": [
    "# Get credentials\n",
    "un = \"DennisH3\"\n",
    "pw = getpass.getpass(prompt=\"Please enter PAT\")"
   ]
  },
  {
   "cell_type": "code",
   "execution_count": 107,
   "id": "01f425bc",
   "metadata": {},
   "outputs": [
    {
     "name": "stdout",
     "output_type": "stream",
     "text": [
      "CompletedProcess(args=['git', 'pull'], returncode=0, stdout='Updating f69dc37..27a200c\\nFast-forward\\n Data/2020-12-01_to_2020-12-31_chunk_0.csv | 97302 ++++++++++++++++++++++++++++\\n Data/2020-12-01_to_2020-12-31_chunk_1.csv | 97302 ++++++++++++++++++++++++++++\\n Data/2020-12-01_to_2020-12-31_chunk_2.csv | 97302 ++++++++++++++++++++++++++++\\n Data/2020-12-01_to_2020-12-31_chunk_3.csv | 97301 +++++++++++++++++++++++++++\\n Data/2020-12-01_to_2020-12-31_chunk_4.csv | 97301 +++++++++++++++++++++++++++\\n Data/2020-12-01_to_2020-12-31_chunk_5.csv | 97301 +++++++++++++++++++++++++++\\n Data/2020-12-01_to_2020-12-31_chunk_6.csv | 97301 +++++++++++++++++++++++++++\\n Data/2020-12-01_to_2020-12-31_chunk_7.csv | 97301 +++++++++++++++++++++++++++\\n Data/2021-01-01_to_2021-01-31_chunk_0.csv | 89030 +++++++++++++++++++++++++\\n Data/2021-01-01_to_2021-01-31_chunk_1.csv | 89030 +++++++++++++++++++++++++\\n Data/2021-01-01_to_2021-01-31_chunk_2.csv | 89030 +++++++++++++++++++++++++\\n Data/2021-01-01_to_2021-01-31_chunk_3.csv | 89030 +++++++++++++++++++++++++\\n Data/2021-01-01_to_2021-01-31_chunk_4.csv | 89030 +++++++++++++++++++++++++\\n Data/2021-01-01_to_2021-01-31_chunk_5.csv | 89030 +++++++++++++++++++++++++\\n Data/2021-01-01_to_2021-01-31_chunk_6.csv | 89030 +++++++++++++++++++++++++\\n Data/2021-01-01_to_2021-01-31_chunk_7.csv | 89030 +++++++++++++++++++++++++\\n Data/2021-01-01_to_2021-01-31_chunk_8.csv | 89030 +++++++++++++++++++++++++\\n Data/2021-02-01_to_2021-02-28_chunk_0.csv | 95258 +++++++++++++++++++++++++++\\n Data/2021-02-01_to_2021-02-28_chunk_1.csv | 95258 +++++++++++++++++++++++++++\\n Data/2021-02-01_to_2021-02-28_chunk_2.csv | 95257 +++++++++++++++++++++++++++\\n Data/2021-02-01_to_2021-02-28_chunk_3.csv | 95257 +++++++++++++++++++++++++++\\n Data/2021-02-01_to_2021-02-28_chunk_4.csv | 95257 +++++++++++++++++++++++++++\\n Data/2021-02-01_to_2021-02-28_chunk_5.csv | 95257 +++++++++++++++++++++++++++\\n Data/2021-02-01_to_2021-02-28_chunk_6.csv | 95257 +++++++++++++++++++++++++++\\n Data/2021-03-01_to_2021-03-31_chunk_0.csv | 87584 +++++++++++++++++++++++++\\n Data/2021-03-01_to_2021-03-31_chunk_1.csv | 87584 +++++++++++++++++++++++++\\n Data/2021-03-01_to_2021-03-31_chunk_2.csv | 87584 +++++++++++++++++++++++++\\n Data/2021-03-01_to_2021-03-31_chunk_3.csv | 87584 +++++++++++++++++++++++++\\n Data/2021-03-01_to_2021-03-31_chunk_4.csv | 87584 +++++++++++++++++++++++++\\n Data/2021-03-01_to_2021-03-31_chunk_5.csv | 87583 +++++++++++++++++++++++++\\n Data/2021-03-01_to_2021-03-31_chunk_6.csv | 87583 +++++++++++++++++++++++++\\n Data/2021-03-01_to_2021-03-31_chunk_7.csv | 87583 +++++++++++++++++++++++++\\n 32 files changed, 2947151 insertions(+)\\n create mode 100644 Data/2020-12-01_to_2020-12-31_chunk_0.csv\\n create mode 100644 Data/2020-12-01_to_2020-12-31_chunk_1.csv\\n create mode 100644 Data/2020-12-01_to_2020-12-31_chunk_2.csv\\n create mode 100644 Data/2020-12-01_to_2020-12-31_chunk_3.csv\\n create mode 100644 Data/2020-12-01_to_2020-12-31_chunk_4.csv\\n create mode 100644 Data/2020-12-01_to_2020-12-31_chunk_5.csv\\n create mode 100644 Data/2020-12-01_to_2020-12-31_chunk_6.csv\\n create mode 100644 Data/2020-12-01_to_2020-12-31_chunk_7.csv\\n create mode 100644 Data/2021-01-01_to_2021-01-31_chunk_0.csv\\n create mode 100644 Data/2021-01-01_to_2021-01-31_chunk_1.csv\\n create mode 100644 Data/2021-01-01_to_2021-01-31_chunk_2.csv\\n create mode 100644 Data/2021-01-01_to_2021-01-31_chunk_3.csv\\n create mode 100644 Data/2021-01-01_to_2021-01-31_chunk_4.csv\\n create mode 100644 Data/2021-01-01_to_2021-01-31_chunk_5.csv\\n create mode 100644 Data/2021-01-01_to_2021-01-31_chunk_6.csv\\n create mode 100644 Data/2021-01-01_to_2021-01-31_chunk_7.csv\\n create mode 100644 Data/2021-01-01_to_2021-01-31_chunk_8.csv\\n create mode 100644 Data/2021-02-01_to_2021-02-28_chunk_0.csv\\n create mode 100644 Data/2021-02-01_to_2021-02-28_chunk_1.csv\\n create mode 100644 Data/2021-02-01_to_2021-02-28_chunk_2.csv\\n create mode 100644 Data/2021-02-01_to_2021-02-28_chunk_3.csv\\n create mode 100644 Data/2021-02-01_to_2021-02-28_chunk_4.csv\\n create mode 100644 Data/2021-02-01_to_2021-02-28_chunk_5.csv\\n create mode 100644 Data/2021-02-01_to_2021-02-28_chunk_6.csv\\n create mode 100644 Data/2021-03-01_to_2021-03-31_chunk_0.csv\\n create mode 100644 Data/2021-03-01_to_2021-03-31_chunk_1.csv\\n create mode 100644 Data/2021-03-01_to_2021-03-31_chunk_2.csv\\n create mode 100644 Data/2021-03-01_to_2021-03-31_chunk_3.csv\\n create mode 100644 Data/2021-03-01_to_2021-03-31_chunk_4.csv\\n create mode 100644 Data/2021-03-01_to_2021-03-31_chunk_5.csv\\n create mode 100644 Data/2021-03-01_to_2021-03-31_chunk_6.csv\\n create mode 100644 Data/2021-03-01_to_2021-03-31_chunk_7.csv\\n', stderr='From https://github.com/CSBP-CPSE/ais-data\\n   7ba82a4..27a200c  main       -> origin/main\\nUpdating files:  28% (9/32)\\nUpdating files:  31% (10/32)\\nUpdating files:  34% (11/32)\\nUpdating files:  37% (12/32)\\nUpdating files:  40% (13/32)\\nUpdating files:  43% (14/32)\\nUpdating files:  46% (15/32)\\nUpdating files:  50% (16/32)\\nUpdating files:  53% (17/32)\\nUpdating files:  56% (18/32)\\nUpdating files:  59% (19/32)\\nUpdating files:  62% (20/32)\\nUpdating files:  65% (21/32)\\nUpdating files:  68% (22/32)\\nUpdating files:  71% (23/32)\\nUpdating files:  75% (24/32)\\nUpdating files:  78% (25/32)\\nUpdating files:  81% (26/32)\\nUpdating files:  84% (27/32)\\nUpdating files:  87% (28/32)\\nUpdating files:  90% (29/32)\\nUpdating files:  93% (30/32)\\nUpdating files:  96% (31/32)\\nUpdating files: 100% (32/32)\\nUpdating files: 100% (32/32), done.\\n')\n"
     ]
    }
   ],
   "source": [
    "# Git pull\n",
    "std_out = subprocess.run([\"git\", \"pull\"], capture_output=True, text=True)\n",
    "print(std_out)"
   ]
  },
  {
   "cell_type": "code",
   "execution_count": null,
   "id": "422fe0b3",
   "metadata": {},
   "outputs": [],
   "source": [
    "# Set data path\n",
    "data_path = \"./Data/\"\n",
    "\n",
    "# Get all files that end with .csv\n",
    "csvs = [(data_path + f) for f in os.listdir(data_path) if f.endswith(\".csv\")]\n",
    "\n",
    "# Move files from GitHub to MinIO\n",
    "for f in csvs:\n",
    "    shutil.move(f, f.replace('./Data/', '../minio/standard/private/data/'))\n",
    "\n",
    "# Ensure that all files have been moved\n",
    "assert len(os.listdir(data_path)) == 0"
   ]
  },
  {
   "cell_type": "code",
   "execution_count": null,
   "id": "8a868b23",
   "metadata": {},
   "outputs": [],
   "source": [
    "# Update Git Repo\n",
    "\n",
    "# Git Config\n",
    "std_out = subprocess.run([\"git\", \"config\", \"--global\", \"user.email\", '\"dennishuynh3@gmail.com\"'], capture_output=True, text=True)\n",
    "print(std_out)\n",
    "std_out = subprocess.run([\"git\", \"config\", \"--global\", \"user.name\", '\"DennisH3\"'], capture_output=True, text=True)\n",
    "print(std_out)\n",
    "\n",
    "# Git add and commit\n",
    "std_out = subprocess.run([\"git\", \"add\", \".\"], capture_output=True, text=True)\n",
    "print(std_out)\n",
    "std_out = subprocess.run([\"git\", \"commit\", \"-m\", \"Remove data\"], capture_output=True, text=True).stdout\n",
    "print(std_out)"
   ]
  },
  {
   "cell_type": "code",
   "execution_count": null,
   "id": "ef1bb4ca",
   "metadata": {},
   "outputs": [],
   "source": [
    "push = \"git push --repo https://{}:{}@github.com/CSBP-CPSE/ais-data.git\".format(un, pw)\n",
    "\n",
    "std_out = subprocess.run([push], capture_output=True, text=True, shell=True).stderr\n",
    "print(std_out)"
   ]
  },
  {
   "cell_type": "code",
   "execution_count": null,
   "id": "8f3c99ba",
   "metadata": {},
   "outputs": [],
   "source": []
  }
 ],
 "metadata": {
  "kernelspec": {
   "display_name": "Python 3 (ipykernel)",
   "language": "python",
   "name": "python3"
  },
  "language_info": {
   "codemirror_mode": {
    "name": "ipython",
    "version": 3
   },
   "file_extension": ".py",
   "mimetype": "text/x-python",
   "name": "python",
   "nbconvert_exporter": "python",
   "pygments_lexer": "ipython3",
   "version": "3.8.10"
  }
 },
 "nbformat": 4,
 "nbformat_minor": 5
}
