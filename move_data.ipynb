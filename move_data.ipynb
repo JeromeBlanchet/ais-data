{
 "cells": [
  {
   "cell_type": "code",
   "execution_count": 1,
   "id": "0796344b",
   "metadata": {},
   "outputs": [],
   "source": [
    "import sys\n",
    "import os\n",
    "import shutil\n",
    "import subprocess\n",
    "import getpass"
   ]
  },
  {
   "cell_type": "code",
   "execution_count": 2,
   "id": "0be62032",
   "metadata": {},
   "outputs": [
    {
     "name": "stdout",
     "output_type": "stream",
     "text": [
      "Please enter PAT········\n"
     ]
    }
   ],
   "source": [
    "# Get credentials\n",
    "un = \"DennisH3\"\n",
    "pw = getpass.getpass(prompt=\"Please enter PAT\")"
   ]
  },
  {
   "cell_type": "code",
   "execution_count": 3,
   "id": "01f425bc",
   "metadata": {},
   "outputs": [
    {
     "name": "stdout",
     "output_type": "stream",
     "text": [
      "CompletedProcess(args=['git', 'pull'], returncode=0, stdout='Updating 9a2fdae..edb38ba\\nFast-forward\\n Data/2021-04-01_to_2021-04-30_chunk_0.csv          | 90767 +++++++++++++++++\\n Data/2021-04-01_to_2021-04-30_chunk_1.csv          | 90766 +++++++++++++++++\\n Data/2021-04-01_to_2021-04-30_chunk_2.csv          | 90766 +++++++++++++++++\\n Data/2021-04-01_to_2021-04-30_chunk_3.csv          | 90766 +++++++++++++++++\\n Data/2021-04-01_to_2021-04-30_chunk_4.csv          | 90766 +++++++++++++++++\\n Data/2021-04-01_to_2021-04-30_chunk_5.csv          | 90766 +++++++++++++++++\\n Data/2021-04-01_to_2021-04-30_chunk_6.csv          | 90766 +++++++++++++++++\\n Data/2021-05-01_to_2021-05-31_chunk_0.csv          | 86886 ++++++++++++++++\\n Data/2021-05-01_to_2021-05-31_chunk_1.csv          | 86886 ++++++++++++++++\\n Data/2021-05-01_to_2021-05-31_chunk_2.csv          | 86886 ++++++++++++++++\\n Data/2021-05-01_to_2021-05-31_chunk_3.csv          | 86886 ++++++++++++++++\\n Data/2021-05-01_to_2021-05-31_chunk_4.csv          | 86886 ++++++++++++++++\\n Data/2021-05-01_to_2021-05-31_chunk_5.csv          | 86886 ++++++++++++++++\\n Data/2021-05-01_to_2021-05-31_chunk_6.csv          | 86885 ++++++++++++++++\\n Data/2021-06-01_to_2021-06-30_chunk_0.csv          | 98942 +++++++++++++++++++\\n Data/2021-06-01_to_2021-06-30_chunk_1.csv          | 98941 ++++++++++++++++++\\n Data/2021-06-01_to_2021-06-30_chunk_2.csv          | 98941 ++++++++++++++++++\\n Data/2021-06-01_to_2021-06-30_chunk_3.csv          | 98941 ++++++++++++++++++\\n Data/2021-06-01_to_2021-06-30_chunk_4.csv          | 98941 ++++++++++++++++++\\n Data/2021-06-01_to_2021-06-30_chunk_5.csv          | 98941 ++++++++++++++++++\\n ...op20_ports_2018-12-01_to_2018-12-31_chunk_0.csv | 96853 ++++++++++++++++++\\n ...op20_ports_2018-12-01_to_2018-12-31_chunk_1.csv | 96853 ++++++++++++++++++\\n ...p20_ports_2018-12-01_to_2018-12-31_chunk_10.csv | 96853 ++++++++++++++++++\\n ...p20_ports_2018-12-01_to_2018-12-31_chunk_11.csv | 96853 ++++++++++++++++++\\n ...p20_ports_2018-12-01_to_2018-12-31_chunk_12.csv | 96853 ++++++++++++++++++\\n ...p20_ports_2018-12-01_to_2018-12-31_chunk_13.csv | 96853 ++++++++++++++++++\\n ...p20_ports_2018-12-01_to_2018-12-31_chunk_14.csv | 96853 ++++++++++++++++++\\n ...p20_ports_2018-12-01_to_2018-12-31_chunk_15.csv | 96853 ++++++++++++++++++\\n ...p20_ports_2018-12-01_to_2018-12-31_chunk_16.csv | 96853 ++++++++++++++++++\\n ...p20_ports_2018-12-01_to_2018-12-31_chunk_17.csv | 96852 ++++++++++++++++++\\n ...p20_ports_2018-12-01_to_2018-12-31_chunk_18.csv | 96852 ++++++++++++++++++\\n ...op20_ports_2018-12-01_to_2018-12-31_chunk_2.csv | 96853 ++++++++++++++++++\\n ...op20_ports_2018-12-01_to_2018-12-31_chunk_3.csv | 96853 ++++++++++++++++++\\n ...op20_ports_2018-12-01_to_2018-12-31_chunk_4.csv | 96853 ++++++++++++++++++\\n ...op20_ports_2018-12-01_to_2018-12-31_chunk_5.csv | 96853 ++++++++++++++++++\\n ...op20_ports_2018-12-01_to_2018-12-31_chunk_6.csv | 96853 ++++++++++++++++++\\n ...op20_ports_2018-12-01_to_2018-12-31_chunk_7.csv | 96853 ++++++++++++++++++\\n ...op20_ports_2018-12-01_to_2018-12-31_chunk_8.csv | 96853 ++++++++++++++++++\\n ...op20_ports_2018-12-01_to_2018-12-31_chunk_9.csv | 96853 ++++++++++++++++++\\n 39 files changed, 3677416 insertions(+)\\n create mode 100644 Data/2021-04-01_to_2021-04-30_chunk_0.csv\\n create mode 100644 Data/2021-04-01_to_2021-04-30_chunk_1.csv\\n create mode 100644 Data/2021-04-01_to_2021-04-30_chunk_2.csv\\n create mode 100644 Data/2021-04-01_to_2021-04-30_chunk_3.csv\\n create mode 100644 Data/2021-04-01_to_2021-04-30_chunk_4.csv\\n create mode 100644 Data/2021-04-01_to_2021-04-30_chunk_5.csv\\n create mode 100644 Data/2021-04-01_to_2021-04-30_chunk_6.csv\\n create mode 100644 Data/2021-05-01_to_2021-05-31_chunk_0.csv\\n create mode 100644 Data/2021-05-01_to_2021-05-31_chunk_1.csv\\n create mode 100644 Data/2021-05-01_to_2021-05-31_chunk_2.csv\\n create mode 100644 Data/2021-05-01_to_2021-05-31_chunk_3.csv\\n create mode 100644 Data/2021-05-01_to_2021-05-31_chunk_4.csv\\n create mode 100644 Data/2021-05-01_to_2021-05-31_chunk_5.csv\\n create mode 100644 Data/2021-05-01_to_2021-05-31_chunk_6.csv\\n create mode 100644 Data/2021-06-01_to_2021-06-30_chunk_0.csv\\n create mode 100644 Data/2021-06-01_to_2021-06-30_chunk_1.csv\\n create mode 100644 Data/2021-06-01_to_2021-06-30_chunk_2.csv\\n create mode 100644 Data/2021-06-01_to_2021-06-30_chunk_3.csv\\n create mode 100644 Data/2021-06-01_to_2021-06-30_chunk_4.csv\\n create mode 100644 Data/2021-06-01_to_2021-06-30_chunk_5.csv\\n create mode 100644 Data/top20_ports_2018-12-01_to_2018-12-31_chunk_0.csv\\n create mode 100644 Data/top20_ports_2018-12-01_to_2018-12-31_chunk_1.csv\\n create mode 100644 Data/top20_ports_2018-12-01_to_2018-12-31_chunk_10.csv\\n create mode 100644 Data/top20_ports_2018-12-01_to_2018-12-31_chunk_11.csv\\n create mode 100644 Data/top20_ports_2018-12-01_to_2018-12-31_chunk_12.csv\\n create mode 100644 Data/top20_ports_2018-12-01_to_2018-12-31_chunk_13.csv\\n create mode 100644 Data/top20_ports_2018-12-01_to_2018-12-31_chunk_14.csv\\n create mode 100644 Data/top20_ports_2018-12-01_to_2018-12-31_chunk_15.csv\\n create mode 100644 Data/top20_ports_2018-12-01_to_2018-12-31_chunk_16.csv\\n create mode 100644 Data/top20_ports_2018-12-01_to_2018-12-31_chunk_17.csv\\n create mode 100644 Data/top20_ports_2018-12-01_to_2018-12-31_chunk_18.csv\\n create mode 100644 Data/top20_ports_2018-12-01_to_2018-12-31_chunk_2.csv\\n create mode 100644 Data/top20_ports_2018-12-01_to_2018-12-31_chunk_3.csv\\n create mode 100644 Data/top20_ports_2018-12-01_to_2018-12-31_chunk_4.csv\\n create mode 100644 Data/top20_ports_2018-12-01_to_2018-12-31_chunk_5.csv\\n create mode 100644 Data/top20_ports_2018-12-01_to_2018-12-31_chunk_6.csv\\n create mode 100644 Data/top20_ports_2018-12-01_to_2018-12-31_chunk_7.csv\\n create mode 100644 Data/top20_ports_2018-12-01_to_2018-12-31_chunk_8.csv\\n create mode 100644 Data/top20_ports_2018-12-01_to_2018-12-31_chunk_9.csv\\n', stderr='From https://github.com/CSBP-CPSE/ais-data\\n   27a200c..edb38ba  main       -> origin/main\\nUpdating files:  23% (9/39)\\nUpdating files:  25% (10/39)\\nUpdating files:  28% (11/39)\\nUpdating files:  30% (12/39)\\nUpdating files:  33% (13/39)\\nUpdating files:  35% (14/39)\\nUpdating files:  38% (15/39)\\nUpdating files:  41% (16/39)\\nUpdating files:  43% (17/39)\\nUpdating files:  46% (18/39)\\nUpdating files:  48% (19/39)\\nUpdating files:  51% (20/39)\\nUpdating files:  53% (21/39)\\nUpdating files:  56% (22/39)\\nUpdating files:  58% (23/39)\\nUpdating files:  61% (24/39)\\nUpdating files:  64% (25/39)\\nUpdating files:  66% (26/39)\\nUpdating files:  69% (27/39)\\nUpdating files:  71% (28/39)\\nUpdating files:  74% (29/39)\\nUpdating files:  76% (30/39)\\nUpdating files:  79% (31/39)\\nUpdating files:  82% (32/39)\\nUpdating files:  84% (33/39)\\nUpdating files:  87% (34/39)\\nUpdating files:  89% (35/39)\\nUpdating files:  92% (36/39)\\nUpdating files:  94% (37/39)\\nUpdating files:  97% (38/39)\\nUpdating files: 100% (39/39)\\nUpdating files: 100% (39/39), done.\\n')\n"
     ]
    }
   ],
   "source": [
    "# Git pull\n",
    "std_out = subprocess.run([\"git\", \"pull\"], capture_output=True, text=True)\n",
    "print(std_out)"
   ]
  },
  {
   "cell_type": "code",
   "execution_count": null,
   "id": "422fe0b3",
   "metadata": {},
   "outputs": [],
   "source": [
    "# Set data path\n",
    "data_path = \"./Data/\"\n",
    "\n",
    "# Get all files that end with .csv\n",
    "csvs = [(data_path + f) for f in os.listdir(data_path) if f.endswith(\".csv\")]\n",
    "\n",
    "# Move files from GitHub to MinIO\n",
    "for f in csvs:\n",
    "    shutil.move(f, f.replace('./Data/', '../minio/standard/private/data/'))\n",
    "\n",
    "# Ensure that all files have been moved\n",
    "assert len(os.listdir(data_path)) == 0"
   ]
  },
  {
   "cell_type": "code",
   "execution_count": null,
   "id": "8a868b23",
   "metadata": {},
   "outputs": [],
   "source": [
    "# Update Git Repo\n",
    "\n",
    "# Git Config\n",
    "std_out = subprocess.run([\"git\", \"config\", \"--global\", \"user.email\", '\"dennishuynh3@gmail.com\"'], capture_output=True, text=True)\n",
    "print(std_out)\n",
    "std_out = subprocess.run([\"git\", \"config\", \"--global\", \"user.name\", '\"DennisH3\"'], capture_output=True, text=True)\n",
    "print(std_out)\n",
    "\n",
    "# Git add and commit\n",
    "std_out = subprocess.run([\"git\", \"add\", \".\"], capture_output=True, text=True)\n",
    "print(std_out)\n",
    "std_out = subprocess.run([\"git\", \"commit\", \"-m\", \"Remove data\"], capture_output=True, text=True).stdout\n",
    "print(std_out)"
   ]
  },
  {
   "cell_type": "code",
   "execution_count": null,
   "id": "ef1bb4ca",
   "metadata": {},
   "outputs": [],
   "source": [
    "push = \"git push --repo https://{}:{}@github.com/CSBP-CPSE/ais-data.git\".format(un, pw)\n",
    "\n",
    "std_out = subprocess.run([push], capture_output=True, text=True, shell=True).stderr\n",
    "print(std_out)"
   ]
  },
  {
   "cell_type": "code",
   "execution_count": null,
   "id": "fe1b5395",
   "metadata": {},
   "outputs": [],
   "source": []
  }
 ],
 "metadata": {
  "kernelspec": {
   "display_name": "Python 3 (ipykernel)",
   "language": "python",
   "name": "python3"
  },
  "language_info": {
   "codemirror_mode": {
    "name": "ipython",
    "version": 3
   },
   "file_extension": ".py",
   "mimetype": "text/x-python",
   "name": "python",
   "nbconvert_exporter": "python",
   "pygments_lexer": "ipython3",
   "version": "3.8.10"
  }
 },
 "nbformat": 4,
 "nbformat_minor": 5
}
