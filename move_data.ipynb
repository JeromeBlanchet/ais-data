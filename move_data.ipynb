{
 "cells": [
  {
   "cell_type": "code",
   "execution_count": 1,
   "id": "0796344b",
   "metadata": {},
   "outputs": [],
   "source": [
    "import sys\n",
    "import os\n",
    "import shutil\n",
    "import subprocess\n",
    "import getpass"
   ]
  },
  {
   "cell_type": "code",
   "execution_count": 2,
   "id": "0be62032",
   "metadata": {},
   "outputs": [
    {
     "name": "stdout",
     "output_type": "stream",
     "text": [
      "Please enter PAT········\n"
     ]
    }
   ],
   "source": [
    "# Get credentials\n",
    "un = \"DennisH3\"\n",
    "pw = getpass.getpass(prompt=\"Please enter PAT\")"
   ]
  },
  {
   "cell_type": "code",
   "execution_count": 39,
   "id": "01f425bc",
   "metadata": {},
   "outputs": [
    {
     "name": "stdout",
     "output_type": "stream",
     "text": [
      "CompletedProcess(args=['git', 'pull'], returncode=0, stdout='Updating 69f881a..e9f0dc4\\nFast-forward\\n ...op20_ports_2019-06-01_to_2019-06-30_chunk_0.csv | 98665 +++++++++++++++++++\\n ...op20_ports_2019-06-01_to_2019-06-30_chunk_1.csv | 98665 +++++++++++++++++++\\n ...p20_ports_2019-06-01_to_2019-06-30_chunk_10.csv | 98665 +++++++++++++++++++\\n ...p20_ports_2019-06-01_to_2019-06-30_chunk_11.csv | 98665 +++++++++++++++++++\\n ...p20_ports_2019-06-01_to_2019-06-30_chunk_12.csv | 98664 ++++++++++++++++++\\n ...p20_ports_2019-06-01_to_2019-06-30_chunk_13.csv | 98664 ++++++++++++++++++\\n ...p20_ports_2019-06-01_to_2019-06-30_chunk_14.csv | 98664 ++++++++++++++++++\\n ...op20_ports_2019-06-01_to_2019-06-30_chunk_2.csv | 98665 +++++++++++++++++++\\n ...op20_ports_2019-06-01_to_2019-06-30_chunk_3.csv | 98665 +++++++++++++++++++\\n ...op20_ports_2019-06-01_to_2019-06-30_chunk_4.csv | 98665 +++++++++++++++++++\\n ...op20_ports_2019-06-01_to_2019-06-30_chunk_5.csv | 98665 +++++++++++++++++++\\n ...op20_ports_2019-06-01_to_2019-06-30_chunk_6.csv | 98665 +++++++++++++++++++\\n ...op20_ports_2019-06-01_to_2019-06-30_chunk_7.csv | 98665 +++++++++++++++++++\\n ...op20_ports_2019-06-01_to_2019-06-30_chunk_8.csv | 98665 +++++++++++++++++++\\n ...op20_ports_2019-06-01_to_2019-06-30_chunk_9.csv | 98665 +++++++++++++++++++\\n ...op20_ports_2019-07-01_to_2019-07-31_chunk_0.csv | 94541 ++++++++++++++++++\\n ...op20_ports_2019-07-01_to_2019-07-31_chunk_1.csv | 94541 ++++++++++++++++++\\n ...p20_ports_2019-07-01_to_2019-07-31_chunk_10.csv | 94541 ++++++++++++++++++\\n ...p20_ports_2019-07-01_to_2019-07-31_chunk_11.csv | 94541 ++++++++++++++++++\\n ...p20_ports_2019-07-01_to_2019-07-31_chunk_12.csv | 94541 ++++++++++++++++++\\n ...p20_ports_2019-07-01_to_2019-07-31_chunk_13.csv | 94541 ++++++++++++++++++\\n ...p20_ports_2019-07-01_to_2019-07-31_chunk_14.csv | 94540 ++++++++++++++++++\\n ...op20_ports_2019-07-01_to_2019-07-31_chunk_2.csv | 94541 ++++++++++++++++++\\n ...op20_ports_2019-07-01_to_2019-07-31_chunk_3.csv | 94541 ++++++++++++++++++\\n ...op20_ports_2019-07-01_to_2019-07-31_chunk_4.csv | 94541 ++++++++++++++++++\\n ...op20_ports_2019-07-01_to_2019-07-31_chunk_5.csv | 94541 ++++++++++++++++++\\n ...op20_ports_2019-07-01_to_2019-07-31_chunk_6.csv | 94541 ++++++++++++++++++\\n ...op20_ports_2019-07-01_to_2019-07-31_chunk_7.csv | 94541 ++++++++++++++++++\\n ...op20_ports_2019-07-01_to_2019-07-31_chunk_8.csv | 94541 ++++++++++++++++++\\n ...op20_ports_2019-07-01_to_2019-07-31_chunk_9.csv | 94541 ++++++++++++++++++\\n ...op20_ports_2019-08-01_to_2019-08-31_chunk_0.csv | 96997 ++++++++++++++++++\\n ...op20_ports_2019-08-01_to_2019-08-31_chunk_1.csv | 96997 ++++++++++++++++++\\n ...p20_ports_2019-08-01_to_2019-08-31_chunk_10.csv | 96997 ++++++++++++++++++\\n ...p20_ports_2019-08-01_to_2019-08-31_chunk_11.csv | 96996 ++++++++++++++++++\\n ...p20_ports_2019-08-01_to_2019-08-31_chunk_12.csv | 96996 ++++++++++++++++++\\n ...p20_ports_2019-08-01_to_2019-08-31_chunk_13.csv | 96996 ++++++++++++++++++\\n ...p20_ports_2019-08-01_to_2019-08-31_chunk_14.csv | 96996 ++++++++++++++++++\\n ...op20_ports_2019-08-01_to_2019-08-31_chunk_2.csv | 96997 ++++++++++++++++++\\n ...op20_ports_2019-08-01_to_2019-08-31_chunk_3.csv | 96997 ++++++++++++++++++\\n ...op20_ports_2019-08-01_to_2019-08-31_chunk_4.csv | 96997 ++++++++++++++++++\\n ...op20_ports_2019-08-01_to_2019-08-31_chunk_5.csv | 96997 ++++++++++++++++++\\n ...op20_ports_2019-08-01_to_2019-08-31_chunk_6.csv | 96997 ++++++++++++++++++\\n ...op20_ports_2019-08-01_to_2019-08-31_chunk_7.csv | 96997 ++++++++++++++++++\\n ...op20_ports_2019-08-01_to_2019-08-31_chunk_8.csv | 96997 ++++++++++++++++++\\n ...op20_ports_2019-08-01_to_2019-08-31_chunk_9.csv | 96997 ++++++++++++++++++\\n 45 files changed, 4353037 insertions(+)\\n create mode 100644 Data/top20_ports_2019-06-01_to_2019-06-30_chunk_0.csv\\n create mode 100644 Data/top20_ports_2019-06-01_to_2019-06-30_chunk_1.csv\\n create mode 100644 Data/top20_ports_2019-06-01_to_2019-06-30_chunk_10.csv\\n create mode 100644 Data/top20_ports_2019-06-01_to_2019-06-30_chunk_11.csv\\n create mode 100644 Data/top20_ports_2019-06-01_to_2019-06-30_chunk_12.csv\\n create mode 100644 Data/top20_ports_2019-06-01_to_2019-06-30_chunk_13.csv\\n create mode 100644 Data/top20_ports_2019-06-01_to_2019-06-30_chunk_14.csv\\n create mode 100644 Data/top20_ports_2019-06-01_to_2019-06-30_chunk_2.csv\\n create mode 100644 Data/top20_ports_2019-06-01_to_2019-06-30_chunk_3.csv\\n create mode 100644 Data/top20_ports_2019-06-01_to_2019-06-30_chunk_4.csv\\n create mode 100644 Data/top20_ports_2019-06-01_to_2019-06-30_chunk_5.csv\\n create mode 100644 Data/top20_ports_2019-06-01_to_2019-06-30_chunk_6.csv\\n create mode 100644 Data/top20_ports_2019-06-01_to_2019-06-30_chunk_7.csv\\n create mode 100644 Data/top20_ports_2019-06-01_to_2019-06-30_chunk_8.csv\\n create mode 100644 Data/top20_ports_2019-06-01_to_2019-06-30_chunk_9.csv\\n create mode 100644 Data/top20_ports_2019-07-01_to_2019-07-31_chunk_0.csv\\n create mode 100644 Data/top20_ports_2019-07-01_to_2019-07-31_chunk_1.csv\\n create mode 100644 Data/top20_ports_2019-07-01_to_2019-07-31_chunk_10.csv\\n create mode 100644 Data/top20_ports_2019-07-01_to_2019-07-31_chunk_11.csv\\n create mode 100644 Data/top20_ports_2019-07-01_to_2019-07-31_chunk_12.csv\\n create mode 100644 Data/top20_ports_2019-07-01_to_2019-07-31_chunk_13.csv\\n create mode 100644 Data/top20_ports_2019-07-01_to_2019-07-31_chunk_14.csv\\n create mode 100644 Data/top20_ports_2019-07-01_to_2019-07-31_chunk_2.csv\\n create mode 100644 Data/top20_ports_2019-07-01_to_2019-07-31_chunk_3.csv\\n create mode 100644 Data/top20_ports_2019-07-01_to_2019-07-31_chunk_4.csv\\n create mode 100644 Data/top20_ports_2019-07-01_to_2019-07-31_chunk_5.csv\\n create mode 100644 Data/top20_ports_2019-07-01_to_2019-07-31_chunk_6.csv\\n create mode 100644 Data/top20_ports_2019-07-01_to_2019-07-31_chunk_7.csv\\n create mode 100644 Data/top20_ports_2019-07-01_to_2019-07-31_chunk_8.csv\\n create mode 100644 Data/top20_ports_2019-07-01_to_2019-07-31_chunk_9.csv\\n create mode 100644 Data/top20_ports_2019-08-01_to_2019-08-31_chunk_0.csv\\n create mode 100644 Data/top20_ports_2019-08-01_to_2019-08-31_chunk_1.csv\\n create mode 100644 Data/top20_ports_2019-08-01_to_2019-08-31_chunk_10.csv\\n create mode 100644 Data/top20_ports_2019-08-01_to_2019-08-31_chunk_11.csv\\n create mode 100644 Data/top20_ports_2019-08-01_to_2019-08-31_chunk_12.csv\\n create mode 100644 Data/top20_ports_2019-08-01_to_2019-08-31_chunk_13.csv\\n create mode 100644 Data/top20_ports_2019-08-01_to_2019-08-31_chunk_14.csv\\n create mode 100644 Data/top20_ports_2019-08-01_to_2019-08-31_chunk_2.csv\\n create mode 100644 Data/top20_ports_2019-08-01_to_2019-08-31_chunk_3.csv\\n create mode 100644 Data/top20_ports_2019-08-01_to_2019-08-31_chunk_4.csv\\n create mode 100644 Data/top20_ports_2019-08-01_to_2019-08-31_chunk_5.csv\\n create mode 100644 Data/top20_ports_2019-08-01_to_2019-08-31_chunk_6.csv\\n create mode 100644 Data/top20_ports_2019-08-01_to_2019-08-31_chunk_7.csv\\n create mode 100644 Data/top20_ports_2019-08-01_to_2019-08-31_chunk_8.csv\\n create mode 100644 Data/top20_ports_2019-08-01_to_2019-08-31_chunk_9.csv\\n', stderr='From https://github.com/CSBP-CPSE/ais-data\\n   c59e9c4..e9f0dc4  main       -> origin/main\\nUpdating files:  17% (8/45)\\nUpdating files:  20% (9/45)\\nUpdating files:  22% (10/45)\\nUpdating files:  24% (11/45)\\nUpdating files:  26% (12/45)\\nUpdating files:  28% (13/45)\\nUpdating files:  31% (14/45)\\nUpdating files:  33% (15/45)\\nUpdating files:  35% (16/45)\\nUpdating files:  37% (17/45)\\nUpdating files:  40% (18/45)\\nUpdating files:  42% (19/45)\\nUpdating files:  44% (20/45)\\nUpdating files:  46% (21/45)\\nUpdating files:  48% (22/45)\\nUpdating files:  51% (23/45)\\nUpdating files:  53% (24/45)\\nUpdating files:  55% (25/45)\\nUpdating files:  57% (26/45)\\nUpdating files:  60% (27/45)\\nUpdating files:  62% (28/45)\\nUpdating files:  64% (29/45)\\nUpdating files:  66% (30/45)\\nUpdating files:  68% (31/45)\\nUpdating files:  71% (32/45)\\nUpdating files:  73% (33/45)\\nUpdating files:  75% (34/45)\\nUpdating files:  77% (35/45)\\nUpdating files:  80% (36/45)\\nUpdating files:  82% (37/45)\\nUpdating files:  84% (38/45)\\nUpdating files:  86% (39/45)\\nUpdating files:  88% (40/45)\\nUpdating files:  91% (41/45)\\nUpdating files:  93% (42/45)\\nUpdating files:  95% (43/45)\\nUpdating files:  97% (44/45)\\nUpdating files: 100% (45/45)\\nUpdating files: 100% (45/45), done.\\n')\n"
     ]
    }
   ],
   "source": [
    "# Git pull\n",
    "std_out = subprocess.run([\"git\", \"pull\"], capture_output=True, text=True)\n",
    "print(std_out)"
   ]
  },
  {
   "cell_type": "code",
   "execution_count": null,
   "id": "422fe0b3",
   "metadata": {},
   "outputs": [],
   "source": [
    "%%time\n",
    "# Set data path\n",
    "data_path = \"./Data/\"\n",
    "\n",
    "# Get all files that end with .csv\n",
    "csvs = [(data_path + f) for f in os.listdir(data_path) if f.endswith(\".csv\")]\n",
    "\n",
    "# Move files from GitHub to MinIO\n",
    "for f in csvs:\n",
    "    shutil.move(f, f.replace('./Data/', '../minio/standard/private/data/'))\n",
    "\n",
    "# Ensure that all files have been moved\n",
    "assert len(os.listdir(data_path)) == 0"
   ]
  },
  {
   "cell_type": "code",
   "execution_count": null,
   "id": "8a868b23",
   "metadata": {},
   "outputs": [],
   "source": [
    "# Update Git Repo\n",
    "\n",
    "# Git Config\n",
    "std_out = subprocess.run([\"git\", \"config\", \"--global\", \"user.email\", '\"dennishuynh3@gmail.com\"'], capture_output=True, text=True)\n",
    "print(std_out)\n",
    "std_out = subprocess.run([\"git\", \"config\", \"--global\", \"user.name\", '\"DennisH3\"'], capture_output=True, text=True)\n",
    "print(std_out)\n",
    "\n",
    "# Git add and commit\n",
    "std_out = subprocess.run([\"git\", \"add\", \".\"], capture_output=True, text=True)\n",
    "print(std_out)\n",
    "std_out = subprocess.run([\"git\", \"commit\", \"-m\", \"Remove data\"], capture_output=True, text=True).stdout\n",
    "print(std_out)"
   ]
  },
  {
   "cell_type": "code",
   "execution_count": null,
   "id": "ef1bb4ca",
   "metadata": {},
   "outputs": [],
   "source": [
    "push = \"git push --repo https://{}:{}@github.com/CSBP-CPSE/ais-data.git\".format(un, pw)\n",
    "\n",
    "std_out = subprocess.run([push], capture_output=True, text=True, shell=True).stderr\n",
    "print(std_out)"
   ]
  },
  {
   "cell_type": "code",
   "execution_count": null,
   "id": "fe1b5395",
   "metadata": {},
   "outputs": [],
   "source": []
  }
 ],
 "metadata": {
  "kernelspec": {
   "display_name": "Python 3 (ipykernel)",
   "language": "python",
   "name": "python3"
  },
  "language_info": {
   "codemirror_mode": {
    "name": "ipython",
    "version": 3
   },
   "file_extension": ".py",
   "mimetype": "text/x-python",
   "name": "python",
   "nbconvert_exporter": "python",
   "pygments_lexer": "ipython3",
   "version": "3.8.10"
  }
 },
 "nbformat": 4,
 "nbformat_minor": 5
}
