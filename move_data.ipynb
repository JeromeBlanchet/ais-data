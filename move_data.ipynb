{
 "cells": [
  {
   "cell_type": "code",
   "execution_count": 1,
   "id": "0796344b",
   "metadata": {},
   "outputs": [],
   "source": [
    "import sys\n",
    "import os\n",
    "import shutil\n",
    "import subprocess\n",
    "import getpass"
   ]
  },
  {
   "cell_type": "code",
   "execution_count": 2,
   "id": "0be62032",
   "metadata": {},
   "outputs": [
    {
     "name": "stdout",
     "output_type": "stream",
     "text": [
      "Please enter PAT········\n"
     ]
    }
   ],
   "source": [
    "# Get credentials\n",
    "un = \"DennisH3\"\n",
    "pw = getpass.getpass(prompt=\"Please enter PAT\")"
   ]
  },
  {
   "cell_type": "code",
   "execution_count": 31,
   "id": "01f425bc",
   "metadata": {},
   "outputs": [
    {
     "name": "stdout",
     "output_type": "stream",
     "text": [
      "CompletedProcess(args=['git', 'pull'], returncode=0, stdout='Updating 7d88d0e..7aa0283\\nFast-forward\\n ...op20_ports_2018-12-01_to_2018-12-31_chunk_0.csv | 96063 ++++++++++++++++++\\n ...op20_ports_2018-12-01_to_2018-12-31_chunk_1.csv | 96063 ++++++++++++++++++\\n ...p20_ports_2018-12-01_to_2018-12-31_chunk_10.csv | 96062 ++++++++++++++++++\\n ...p20_ports_2018-12-01_to_2018-12-31_chunk_11.csv | 96062 ++++++++++++++++++\\n ...p20_ports_2018-12-01_to_2018-12-31_chunk_12.csv | 96062 ++++++++++++++++++\\n ...p20_ports_2018-12-01_to_2018-12-31_chunk_13.csv | 96062 ++++++++++++++++++\\n ...p20_ports_2018-12-01_to_2018-12-31_chunk_14.csv | 96062 ++++++++++++++++++\\n ...p20_ports_2018-12-01_to_2018-12-31_chunk_15.csv | 96062 ++++++++++++++++++\\n ...p20_ports_2018-12-01_to_2018-12-31_chunk_16.csv | 96062 ++++++++++++++++++\\n ...p20_ports_2018-12-01_to_2018-12-31_chunk_17.csv | 96062 ++++++++++++++++++\\n ...p20_ports_2018-12-01_to_2018-12-31_chunk_18.csv | 96062 ++++++++++++++++++\\n ...op20_ports_2018-12-01_to_2018-12-31_chunk_2.csv | 96063 ++++++++++++++++++\\n ...op20_ports_2018-12-01_to_2018-12-31_chunk_3.csv | 96063 ++++++++++++++++++\\n ...op20_ports_2018-12-01_to_2018-12-31_chunk_4.csv | 96063 ++++++++++++++++++\\n ...op20_ports_2018-12-01_to_2018-12-31_chunk_5.csv | 96063 ++++++++++++++++++\\n ...op20_ports_2018-12-01_to_2018-12-31_chunk_6.csv | 96063 ++++++++++++++++++\\n ...op20_ports_2018-12-01_to_2018-12-31_chunk_7.csv | 96063 ++++++++++++++++++\\n ...op20_ports_2018-12-01_to_2018-12-31_chunk_8.csv | 96063 ++++++++++++++++++\\n ...op20_ports_2018-12-01_to_2018-12-31_chunk_9.csv | 96063 ++++++++++++++++++\\n ...op20_ports_2019-01-01_to_2019-01-31_chunk_0.csv | 95249 ++++++++++++++++++\\n ...op20_ports_2019-01-01_to_2019-01-31_chunk_1.csv | 95249 ++++++++++++++++++\\n ...p20_ports_2019-01-01_to_2019-01-31_chunk_10.csv | 95248 ++++++++++++++++++\\n ...p20_ports_2019-01-01_to_2019-01-31_chunk_11.csv | 95248 ++++++++++++++++++\\n ...p20_ports_2019-01-01_to_2019-01-31_chunk_12.csv | 95248 ++++++++++++++++++\\n ...p20_ports_2019-01-01_to_2019-01-31_chunk_13.csv | 95248 ++++++++++++++++++\\n ...p20_ports_2019-01-01_to_2019-01-31_chunk_14.csv | 95248 ++++++++++++++++++\\n ...p20_ports_2019-01-01_to_2019-01-31_chunk_15.csv | 95248 ++++++++++++++++++\\n ...p20_ports_2019-01-01_to_2019-01-31_chunk_16.csv | 95248 ++++++++++++++++++\\n ...p20_ports_2019-01-01_to_2019-01-31_chunk_17.csv | 95248 ++++++++++++++++++\\n ...p20_ports_2019-01-01_to_2019-01-31_chunk_18.csv | 95248 ++++++++++++++++++\\n ...p20_ports_2019-01-01_to_2019-01-31_chunk_19.csv | 95248 ++++++++++++++++++\\n ...op20_ports_2019-01-01_to_2019-01-31_chunk_2.csv | 95249 ++++++++++++++++++\\n ...op20_ports_2019-01-01_to_2019-01-31_chunk_3.csv | 95249 ++++++++++++++++++\\n ...op20_ports_2019-01-01_to_2019-01-31_chunk_4.csv | 95248 ++++++++++++++++++\\n ...op20_ports_2019-01-01_to_2019-01-31_chunk_5.csv | 95248 ++++++++++++++++++\\n ...op20_ports_2019-01-01_to_2019-01-31_chunk_6.csv | 95248 ++++++++++++++++++\\n ...op20_ports_2019-01-01_to_2019-01-31_chunk_7.csv | 95248 ++++++++++++++++++\\n ...op20_ports_2019-01-01_to_2019-01-31_chunk_8.csv | 95248 ++++++++++++++++++\\n ...op20_ports_2019-01-01_to_2019-01-31_chunk_9.csv | 95248 ++++++++++++++++++\\n ...op20_ports_2019-02-01_to_2019-02-28_chunk_0.csv | 97230 +++++++++++++++++++\\n ...op20_ports_2019-02-01_to_2019-02-28_chunk_1.csv | 97230 +++++++++++++++++++\\n ...p20_ports_2019-02-01_to_2019-02-28_chunk_10.csv | 97229 ++++++++++++++++++\\n ...p20_ports_2019-02-01_to_2019-02-28_chunk_11.csv | 97229 ++++++++++++++++++\\n ...p20_ports_2019-02-01_to_2019-02-28_chunk_12.csv | 97229 ++++++++++++++++++\\n ...p20_ports_2019-02-01_to_2019-02-28_chunk_13.csv | 97229 ++++++++++++++++++\\n ...p20_ports_2019-02-01_to_2019-02-28_chunk_14.csv | 97229 ++++++++++++++++++\\n ...p20_ports_2019-02-01_to_2019-02-28_chunk_15.csv | 97229 ++++++++++++++++++\\n ...p20_ports_2019-02-01_to_2019-02-28_chunk_16.csv | 97229 ++++++++++++++++++\\n ...op20_ports_2019-02-01_to_2019-02-28_chunk_2.csv | 97230 +++++++++++++++++++\\n ...op20_ports_2019-02-01_to_2019-02-28_chunk_3.csv | 97230 +++++++++++++++++++\\n ...op20_ports_2019-02-01_to_2019-02-28_chunk_4.csv | 97230 +++++++++++++++++++\\n ...op20_ports_2019-02-01_to_2019-02-28_chunk_5.csv | 97230 +++++++++++++++++++\\n ...op20_ports_2019-02-01_to_2019-02-28_chunk_6.csv | 97230 +++++++++++++++++++\\n ...op20_ports_2019-02-01_to_2019-02-28_chunk_7.csv | 97230 +++++++++++++++++++\\n ...op20_ports_2019-02-01_to_2019-02-28_chunk_8.csv | 97229 ++++++++++++++++++\\n ...op20_ports_2019-02-01_to_2019-02-28_chunk_9.csv | 97229 ++++++++++++++++++\\n 56 files changed, 5383053 insertions(+)\\n create mode 100644 Data/top20_ports_2018-12-01_to_2018-12-31_chunk_0.csv\\n create mode 100644 Data/top20_ports_2018-12-01_to_2018-12-31_chunk_1.csv\\n create mode 100644 Data/top20_ports_2018-12-01_to_2018-12-31_chunk_10.csv\\n create mode 100644 Data/top20_ports_2018-12-01_to_2018-12-31_chunk_11.csv\\n create mode 100644 Data/top20_ports_2018-12-01_to_2018-12-31_chunk_12.csv\\n create mode 100644 Data/top20_ports_2018-12-01_to_2018-12-31_chunk_13.csv\\n create mode 100644 Data/top20_ports_2018-12-01_to_2018-12-31_chunk_14.csv\\n create mode 100644 Data/top20_ports_2018-12-01_to_2018-12-31_chunk_15.csv\\n create mode 100644 Data/top20_ports_2018-12-01_to_2018-12-31_chunk_16.csv\\n create mode 100644 Data/top20_ports_2018-12-01_to_2018-12-31_chunk_17.csv\\n create mode 100644 Data/top20_ports_2018-12-01_to_2018-12-31_chunk_18.csv\\n create mode 100644 Data/top20_ports_2018-12-01_to_2018-12-31_chunk_2.csv\\n create mode 100644 Data/top20_ports_2018-12-01_to_2018-12-31_chunk_3.csv\\n create mode 100644 Data/top20_ports_2018-12-01_to_2018-12-31_chunk_4.csv\\n create mode 100644 Data/top20_ports_2018-12-01_to_2018-12-31_chunk_5.csv\\n create mode 100644 Data/top20_ports_2018-12-01_to_2018-12-31_chunk_6.csv\\n create mode 100644 Data/top20_ports_2018-12-01_to_2018-12-31_chunk_7.csv\\n create mode 100644 Data/top20_ports_2018-12-01_to_2018-12-31_chunk_8.csv\\n create mode 100644 Data/top20_ports_2018-12-01_to_2018-12-31_chunk_9.csv\\n create mode 100644 Data/top20_ports_2019-01-01_to_2019-01-31_chunk_0.csv\\n create mode 100644 Data/top20_ports_2019-01-01_to_2019-01-31_chunk_1.csv\\n create mode 100644 Data/top20_ports_2019-01-01_to_2019-01-31_chunk_10.csv\\n create mode 100644 Data/top20_ports_2019-01-01_to_2019-01-31_chunk_11.csv\\n create mode 100644 Data/top20_ports_2019-01-01_to_2019-01-31_chunk_12.csv\\n create mode 100644 Data/top20_ports_2019-01-01_to_2019-01-31_chunk_13.csv\\n create mode 100644 Data/top20_ports_2019-01-01_to_2019-01-31_chunk_14.csv\\n create mode 100644 Data/top20_ports_2019-01-01_to_2019-01-31_chunk_15.csv\\n create mode 100644 Data/top20_ports_2019-01-01_to_2019-01-31_chunk_16.csv\\n create mode 100644 Data/top20_ports_2019-01-01_to_2019-01-31_chunk_17.csv\\n create mode 100644 Data/top20_ports_2019-01-01_to_2019-01-31_chunk_18.csv\\n create mode 100644 Data/top20_ports_2019-01-01_to_2019-01-31_chunk_19.csv\\n create mode 100644 Data/top20_ports_2019-01-01_to_2019-01-31_chunk_2.csv\\n create mode 100644 Data/top20_ports_2019-01-01_to_2019-01-31_chunk_3.csv\\n create mode 100644 Data/top20_ports_2019-01-01_to_2019-01-31_chunk_4.csv\\n create mode 100644 Data/top20_ports_2019-01-01_to_2019-01-31_chunk_5.csv\\n create mode 100644 Data/top20_ports_2019-01-01_to_2019-01-31_chunk_6.csv\\n create mode 100644 Data/top20_ports_2019-01-01_to_2019-01-31_chunk_7.csv\\n create mode 100644 Data/top20_ports_2019-01-01_to_2019-01-31_chunk_8.csv\\n create mode 100644 Data/top20_ports_2019-01-01_to_2019-01-31_chunk_9.csv\\n create mode 100644 Data/top20_ports_2019-02-01_to_2019-02-28_chunk_0.csv\\n create mode 100644 Data/top20_ports_2019-02-01_to_2019-02-28_chunk_1.csv\\n create mode 100644 Data/top20_ports_2019-02-01_to_2019-02-28_chunk_10.csv\\n create mode 100644 Data/top20_ports_2019-02-01_to_2019-02-28_chunk_11.csv\\n create mode 100644 Data/top20_ports_2019-02-01_to_2019-02-28_chunk_12.csv\\n create mode 100644 Data/top20_ports_2019-02-01_to_2019-02-28_chunk_13.csv\\n create mode 100644 Data/top20_ports_2019-02-01_to_2019-02-28_chunk_14.csv\\n create mode 100644 Data/top20_ports_2019-02-01_to_2019-02-28_chunk_15.csv\\n create mode 100644 Data/top20_ports_2019-02-01_to_2019-02-28_chunk_16.csv\\n create mode 100644 Data/top20_ports_2019-02-01_to_2019-02-28_chunk_2.csv\\n create mode 100644 Data/top20_ports_2019-02-01_to_2019-02-28_chunk_3.csv\\n create mode 100644 Data/top20_ports_2019-02-01_to_2019-02-28_chunk_4.csv\\n create mode 100644 Data/top20_ports_2019-02-01_to_2019-02-28_chunk_5.csv\\n create mode 100644 Data/top20_ports_2019-02-01_to_2019-02-28_chunk_6.csv\\n create mode 100644 Data/top20_ports_2019-02-01_to_2019-02-28_chunk_7.csv\\n create mode 100644 Data/top20_ports_2019-02-01_to_2019-02-28_chunk_8.csv\\n create mode 100644 Data/top20_ports_2019-02-01_to_2019-02-28_chunk_9.csv\\n', stderr='From https://github.com/CSBP-CPSE/ais-data\\n   002c29d..7aa0283  main       -> origin/main\\nUpdating files:  16% (9/56)\\nUpdating files:  17% (10/56)\\nUpdating files:  19% (11/56)\\nUpdating files:  21% (12/56)\\nUpdating files:  23% (13/56)\\nUpdating files:  25% (14/56)\\nUpdating files:  26% (15/56)\\nUpdating files:  28% (16/56)\\nUpdating files:  30% (17/56)\\nUpdating files:  32% (18/56)\\nUpdating files:  33% (19/56)\\nUpdating files:  35% (20/56)\\nUpdating files:  37% (21/56)\\nUpdating files:  39% (22/56)\\nUpdating files:  41% (23/56)\\nUpdating files:  42% (24/56)\\nUpdating files:  44% (25/56)\\nUpdating files:  46% (26/56)\\nUpdating files:  48% (27/56)\\nUpdating files:  50% (28/56)\\nUpdating files:  51% (29/56)\\nUpdating files:  53% (30/56)\\nUpdating files:  55% (31/56)\\nUpdating files:  57% (32/56)\\nUpdating files:  58% (33/56)\\nUpdating files:  60% (34/56)\\nUpdating files:  62% (35/56)\\nUpdating files:  64% (36/56)\\nUpdating files:  66% (37/56)\\nUpdating files:  67% (38/56)\\nUpdating files:  69% (39/56)\\nUpdating files:  71% (40/56)\\nUpdating files:  73% (41/56)\\nUpdating files:  75% (42/56)\\nUpdating files:  76% (43/56)\\nUpdating files:  78% (44/56)\\nUpdating files:  80% (45/56)\\nUpdating files:  82% (46/56)\\nUpdating files:  83% (47/56)\\nUpdating files:  85% (48/56)\\nUpdating files:  87% (49/56)\\nUpdating files:  89% (50/56)\\nUpdating files:  91% (51/56)\\nUpdating files:  92% (52/56)\\nUpdating files:  94% (53/56)\\nUpdating files:  96% (54/56)\\nUpdating files:  98% (55/56)\\nUpdating files: 100% (56/56)\\nUpdating files: 100% (56/56), done.\\n')\n"
     ]
    }
   ],
   "source": [
    "# Git pull\n",
    "std_out = subprocess.run([\"git\", \"pull\"], capture_output=True, text=True)\n",
    "print(std_out)"
   ]
  },
  {
   "cell_type": "code",
   "execution_count": null,
   "id": "422fe0b3",
   "metadata": {},
   "outputs": [],
   "source": [
    "%%time\n",
    "# Set data path\n",
    "data_path = \"./Data/\"\n",
    "\n",
    "# Get all files that end with .csv\n",
    "csvs = [(data_path + f) for f in os.listdir(data_path) if f.endswith(\".csv\")]\n",
    "\n",
    "# Move files from GitHub to MinIO\n",
    "for f in csvs:\n",
    "    shutil.move(f, f.replace('./Data/', '../minio/standard/private/data/'))\n",
    "\n",
    "# Ensure that all files have been moved\n",
    "assert len(os.listdir(data_path)) == 0"
   ]
  },
  {
   "cell_type": "code",
   "execution_count": null,
   "id": "8a868b23",
   "metadata": {},
   "outputs": [],
   "source": [
    "# Update Git Repo\n",
    "\n",
    "# Git Config\n",
    "std_out = subprocess.run([\"git\", \"config\", \"--global\", \"user.email\", '\"dennishuynh3@gmail.com\"'], capture_output=True, text=True)\n",
    "print(std_out)\n",
    "std_out = subprocess.run([\"git\", \"config\", \"--global\", \"user.name\", '\"DennisH3\"'], capture_output=True, text=True)\n",
    "print(std_out)\n",
    "\n",
    "# Git add and commit\n",
    "std_out = subprocess.run([\"git\", \"add\", \".\"], capture_output=True, text=True)\n",
    "print(std_out)\n",
    "std_out = subprocess.run([\"git\", \"commit\", \"-m\", \"Remove data\"], capture_output=True, text=True).stdout\n",
    "print(std_out)"
   ]
  },
  {
   "cell_type": "code",
   "execution_count": null,
   "id": "ef1bb4ca",
   "metadata": {},
   "outputs": [],
   "source": [
    "push = \"git push --repo https://{}:{}@github.com/CSBP-CPSE/ais-data.git\".format(un, pw)\n",
    "\n",
    "std_out = subprocess.run([push], capture_output=True, text=True, shell=True).stderr\n",
    "print(std_out)"
   ]
  },
  {
   "cell_type": "code",
   "execution_count": null,
   "id": "fe1b5395",
   "metadata": {},
   "outputs": [],
   "source": []
  }
 ],
 "metadata": {
  "kernelspec": {
   "display_name": "Python 3 (ipykernel)",
   "language": "python",
   "name": "python3"
  },
  "language_info": {
   "codemirror_mode": {
    "name": "ipython",
    "version": 3
   },
   "file_extension": ".py",
   "mimetype": "text/x-python",
   "name": "python",
   "nbconvert_exporter": "python",
   "pygments_lexer": "ipython3",
   "version": "3.8.10"
  }
 },
 "nbformat": 4,
 "nbformat_minor": 5
}
