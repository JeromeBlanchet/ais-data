{
 "cells": [
  {
   "cell_type": "code",
   "execution_count": 1,
   "id": "0796344b",
   "metadata": {},
   "outputs": [],
   "source": [
    "import sys\n",
    "import os\n",
    "import shutil\n",
    "import subprocess\n",
    "import getpass"
   ]
  },
  {
   "cell_type": "code",
   "execution_count": 2,
   "id": "0be62032",
   "metadata": {},
   "outputs": [
    {
     "name": "stdout",
     "output_type": "stream",
     "text": [
      "Please enter PAT········\n"
     ]
    }
   ],
   "source": [
    "# Get credentials\n",
    "un = \"DennisH3\"\n",
    "pw = getpass.getpass(prompt=\"Please enter PAT\")"
   ]
  },
  {
   "cell_type": "code",
   "execution_count": 35,
   "id": "01f425bc",
   "metadata": {},
   "outputs": [
    {
     "name": "stdout",
     "output_type": "stream",
     "text": [
      "CompletedProcess(args=['git', 'pull'], returncode=0, stdout='Updating e88796f..c59e9c4\\nFast-forward\\n ...op20_ports_2019-03-01_to_2019-03-31_chunk_0.csv | 94907 ++++++++++++++++++\\n ...op20_ports_2019-03-01_to_2019-03-31_chunk_1.csv | 94907 ++++++++++++++++++\\n ...p20_ports_2019-03-01_to_2019-03-31_chunk_10.csv | 94907 ++++++++++++++++++\\n ...p20_ports_2019-03-01_to_2019-03-31_chunk_11.csv | 94907 ++++++++++++++++++\\n ...p20_ports_2019-03-01_to_2019-03-31_chunk_12.csv | 94906 ++++++++++++++++++\\n ...p20_ports_2019-03-01_to_2019-03-31_chunk_13.csv | 94906 ++++++++++++++++++\\n ...p20_ports_2019-03-01_to_2019-03-31_chunk_14.csv | 94906 ++++++++++++++++++\\n ...p20_ports_2019-03-01_to_2019-03-31_chunk_15.csv | 94906 ++++++++++++++++++\\n ...p20_ports_2019-03-01_to_2019-03-31_chunk_16.csv | 94906 ++++++++++++++++++\\n ...p20_ports_2019-03-01_to_2019-03-31_chunk_17.csv | 94906 ++++++++++++++++++\\n ...p20_ports_2019-03-01_to_2019-03-31_chunk_18.csv | 94906 ++++++++++++++++++\\n ...op20_ports_2019-03-01_to_2019-03-31_chunk_2.csv | 94907 ++++++++++++++++++\\n ...op20_ports_2019-03-01_to_2019-03-31_chunk_3.csv | 94907 ++++++++++++++++++\\n ...op20_ports_2019-03-01_to_2019-03-31_chunk_4.csv | 94907 ++++++++++++++++++\\n ...op20_ports_2019-03-01_to_2019-03-31_chunk_5.csv | 94907 ++++++++++++++++++\\n ...op20_ports_2019-03-01_to_2019-03-31_chunk_6.csv | 94907 ++++++++++++++++++\\n ...op20_ports_2019-03-01_to_2019-03-31_chunk_7.csv | 94907 ++++++++++++++++++\\n ...op20_ports_2019-03-01_to_2019-03-31_chunk_8.csv | 94907 ++++++++++++++++++\\n ...op20_ports_2019-03-01_to_2019-03-31_chunk_9.csv | 94907 ++++++++++++++++++\\n ...op20_ports_2019-04-01_to_2019-04-30_chunk_0.csv | 98308 +++++++++++++++++++\\n ...op20_ports_2019-04-01_to_2019-04-30_chunk_1.csv | 98308 +++++++++++++++++++\\n ...p20_ports_2019-04-01_to_2019-04-30_chunk_10.csv | 98307 ++++++++++++++++++\\n ...p20_ports_2019-04-01_to_2019-04-30_chunk_11.csv | 98307 ++++++++++++++++++\\n ...p20_ports_2019-04-01_to_2019-04-30_chunk_12.csv | 98307 ++++++++++++++++++\\n ...p20_ports_2019-04-01_to_2019-04-30_chunk_13.csv | 98307 ++++++++++++++++++\\n ...p20_ports_2019-04-01_to_2019-04-30_chunk_14.csv | 98307 ++++++++++++++++++\\n ...p20_ports_2019-04-01_to_2019-04-30_chunk_15.csv | 98307 ++++++++++++++++++\\n ...p20_ports_2019-04-01_to_2019-04-30_chunk_16.csv | 98307 ++++++++++++++++++\\n ...op20_ports_2019-04-01_to_2019-04-30_chunk_2.csv | 98308 +++++++++++++++++++\\n ...op20_ports_2019-04-01_to_2019-04-30_chunk_3.csv | 98308 +++++++++++++++++++\\n ...op20_ports_2019-04-01_to_2019-04-30_chunk_4.csv | 98308 +++++++++++++++++++\\n ...op20_ports_2019-04-01_to_2019-04-30_chunk_5.csv | 98307 ++++++++++++++++++\\n ...op20_ports_2019-04-01_to_2019-04-30_chunk_6.csv | 98307 ++++++++++++++++++\\n ...op20_ports_2019-04-01_to_2019-04-30_chunk_7.csv | 98307 ++++++++++++++++++\\n ...op20_ports_2019-04-01_to_2019-04-30_chunk_8.csv | 98307 ++++++++++++++++++\\n ...op20_ports_2019-04-01_to_2019-04-30_chunk_9.csv | 98307 ++++++++++++++++++\\n ...op20_ports_2019-05-01_to_2019-05-31_chunk_0.csv | 97995 ++++++++++++++++++\\n ...op20_ports_2019-05-01_to_2019-05-31_chunk_1.csv | 97995 ++++++++++++++++++\\n ...p20_ports_2019-05-01_to_2019-05-31_chunk_10.csv | 97995 ++++++++++++++++++\\n ...p20_ports_2019-05-01_to_2019-05-31_chunk_11.csv | 97995 ++++++++++++++++++\\n ...p20_ports_2019-05-01_to_2019-05-31_chunk_12.csv | 97995 ++++++++++++++++++\\n ...p20_ports_2019-05-01_to_2019-05-31_chunk_13.csv | 97995 ++++++++++++++++++\\n ...p20_ports_2019-05-01_to_2019-05-31_chunk_14.csv | 97995 ++++++++++++++++++\\n ...op20_ports_2019-05-01_to_2019-05-31_chunk_2.csv | 97995 ++++++++++++++++++\\n ...op20_ports_2019-05-01_to_2019-05-31_chunk_3.csv | 97995 ++++++++++++++++++\\n ...op20_ports_2019-05-01_to_2019-05-31_chunk_4.csv | 97995 ++++++++++++++++++\\n ...op20_ports_2019-05-01_to_2019-05-31_chunk_5.csv | 97995 ++++++++++++++++++\\n ...op20_ports_2019-05-01_to_2019-05-31_chunk_6.csv | 97995 ++++++++++++++++++\\n ...op20_ports_2019-05-01_to_2019-05-31_chunk_7.csv | 97995 ++++++++++++++++++\\n ...op20_ports_2019-05-01_to_2019-05-31_chunk_8.csv | 97995 ++++++++++++++++++\\n ...op20_ports_2019-05-01_to_2019-05-31_chunk_9.csv | 97995 ++++++++++++++++++\\n 51 files changed, 4944375 insertions(+)\\n create mode 100644 Data/top20_ports_2019-03-01_to_2019-03-31_chunk_0.csv\\n create mode 100644 Data/top20_ports_2019-03-01_to_2019-03-31_chunk_1.csv\\n create mode 100644 Data/top20_ports_2019-03-01_to_2019-03-31_chunk_10.csv\\n create mode 100644 Data/top20_ports_2019-03-01_to_2019-03-31_chunk_11.csv\\n create mode 100644 Data/top20_ports_2019-03-01_to_2019-03-31_chunk_12.csv\\n create mode 100644 Data/top20_ports_2019-03-01_to_2019-03-31_chunk_13.csv\\n create mode 100644 Data/top20_ports_2019-03-01_to_2019-03-31_chunk_14.csv\\n create mode 100644 Data/top20_ports_2019-03-01_to_2019-03-31_chunk_15.csv\\n create mode 100644 Data/top20_ports_2019-03-01_to_2019-03-31_chunk_16.csv\\n create mode 100644 Data/top20_ports_2019-03-01_to_2019-03-31_chunk_17.csv\\n create mode 100644 Data/top20_ports_2019-03-01_to_2019-03-31_chunk_18.csv\\n create mode 100644 Data/top20_ports_2019-03-01_to_2019-03-31_chunk_2.csv\\n create mode 100644 Data/top20_ports_2019-03-01_to_2019-03-31_chunk_3.csv\\n create mode 100644 Data/top20_ports_2019-03-01_to_2019-03-31_chunk_4.csv\\n create mode 100644 Data/top20_ports_2019-03-01_to_2019-03-31_chunk_5.csv\\n create mode 100644 Data/top20_ports_2019-03-01_to_2019-03-31_chunk_6.csv\\n create mode 100644 Data/top20_ports_2019-03-01_to_2019-03-31_chunk_7.csv\\n create mode 100644 Data/top20_ports_2019-03-01_to_2019-03-31_chunk_8.csv\\n create mode 100644 Data/top20_ports_2019-03-01_to_2019-03-31_chunk_9.csv\\n create mode 100644 Data/top20_ports_2019-04-01_to_2019-04-30_chunk_0.csv\\n create mode 100644 Data/top20_ports_2019-04-01_to_2019-04-30_chunk_1.csv\\n create mode 100644 Data/top20_ports_2019-04-01_to_2019-04-30_chunk_10.csv\\n create mode 100644 Data/top20_ports_2019-04-01_to_2019-04-30_chunk_11.csv\\n create mode 100644 Data/top20_ports_2019-04-01_to_2019-04-30_chunk_12.csv\\n create mode 100644 Data/top20_ports_2019-04-01_to_2019-04-30_chunk_13.csv\\n create mode 100644 Data/top20_ports_2019-04-01_to_2019-04-30_chunk_14.csv\\n create mode 100644 Data/top20_ports_2019-04-01_to_2019-04-30_chunk_15.csv\\n create mode 100644 Data/top20_ports_2019-04-01_to_2019-04-30_chunk_16.csv\\n create mode 100644 Data/top20_ports_2019-04-01_to_2019-04-30_chunk_2.csv\\n create mode 100644 Data/top20_ports_2019-04-01_to_2019-04-30_chunk_3.csv\\n create mode 100644 Data/top20_ports_2019-04-01_to_2019-04-30_chunk_4.csv\\n create mode 100644 Data/top20_ports_2019-04-01_to_2019-04-30_chunk_5.csv\\n create mode 100644 Data/top20_ports_2019-04-01_to_2019-04-30_chunk_6.csv\\n create mode 100644 Data/top20_ports_2019-04-01_to_2019-04-30_chunk_7.csv\\n create mode 100644 Data/top20_ports_2019-04-01_to_2019-04-30_chunk_8.csv\\n create mode 100644 Data/top20_ports_2019-04-01_to_2019-04-30_chunk_9.csv\\n create mode 100644 Data/top20_ports_2019-05-01_to_2019-05-31_chunk_0.csv\\n create mode 100644 Data/top20_ports_2019-05-01_to_2019-05-31_chunk_1.csv\\n create mode 100644 Data/top20_ports_2019-05-01_to_2019-05-31_chunk_10.csv\\n create mode 100644 Data/top20_ports_2019-05-01_to_2019-05-31_chunk_11.csv\\n create mode 100644 Data/top20_ports_2019-05-01_to_2019-05-31_chunk_12.csv\\n create mode 100644 Data/top20_ports_2019-05-01_to_2019-05-31_chunk_13.csv\\n create mode 100644 Data/top20_ports_2019-05-01_to_2019-05-31_chunk_14.csv\\n create mode 100644 Data/top20_ports_2019-05-01_to_2019-05-31_chunk_2.csv\\n create mode 100644 Data/top20_ports_2019-05-01_to_2019-05-31_chunk_3.csv\\n create mode 100644 Data/top20_ports_2019-05-01_to_2019-05-31_chunk_4.csv\\n create mode 100644 Data/top20_ports_2019-05-01_to_2019-05-31_chunk_5.csv\\n create mode 100644 Data/top20_ports_2019-05-01_to_2019-05-31_chunk_6.csv\\n create mode 100644 Data/top20_ports_2019-05-01_to_2019-05-31_chunk_7.csv\\n create mode 100644 Data/top20_ports_2019-05-01_to_2019-05-31_chunk_8.csv\\n create mode 100644 Data/top20_ports_2019-05-01_to_2019-05-31_chunk_9.csv\\n', stderr='From https://github.com/CSBP-CPSE/ais-data\\n   7aa0283..c59e9c4  main       -> origin/main\\nUpdating files:  15% (8/51)\\nUpdating files:  17% (9/51)\\nUpdating files:  19% (10/51)\\nUpdating files:  21% (11/51)\\nUpdating files:  23% (12/51)\\nUpdating files:  25% (13/51)\\nUpdating files:  27% (14/51)\\nUpdating files:  29% (15/51)\\nUpdating files:  31% (16/51)\\nUpdating files:  33% (17/51)\\nUpdating files:  35% (18/51)\\nUpdating files:  37% (19/51)\\nUpdating files:  39% (20/51)\\nUpdating files:  41% (21/51)\\nUpdating files:  43% (22/51)\\nUpdating files:  45% (23/51)\\nUpdating files:  47% (24/51)\\nUpdating files:  49% (25/51)\\nUpdating files:  50% (26/51)\\nUpdating files:  52% (27/51)\\nUpdating files:  54% (28/51)\\nUpdating files:  56% (29/51)\\nUpdating files:  58% (30/51)\\nUpdating files:  60% (31/51)\\nUpdating files:  62% (32/51)\\nUpdating files:  64% (33/51)\\nUpdating files:  66% (34/51)\\nUpdating files:  68% (35/51)\\nUpdating files:  70% (36/51)\\nUpdating files:  72% (37/51)\\nUpdating files:  74% (38/51)\\nUpdating files:  76% (39/51)\\nUpdating files:  78% (40/51)\\nUpdating files:  80% (41/51)\\nUpdating files:  82% (42/51)\\nUpdating files:  84% (43/51)\\nUpdating files:  86% (44/51)\\nUpdating files:  88% (45/51)\\nUpdating files:  90% (46/51)\\nUpdating files:  92% (47/51)\\nUpdating files:  94% (48/51)\\nUpdating files:  96% (49/51)\\nUpdating files:  98% (50/51)\\nUpdating files: 100% (51/51)\\nUpdating files: 100% (51/51), done.\\n')\n"
     ]
    }
   ],
   "source": [
    "# Git pull\n",
    "std_out = subprocess.run([\"git\", \"pull\"], capture_output=True, text=True)\n",
    "print(std_out)"
   ]
  },
  {
   "cell_type": "code",
   "execution_count": null,
   "id": "422fe0b3",
   "metadata": {},
   "outputs": [],
   "source": [
    "%%time\n",
    "# Set data path\n",
    "data_path = \"./Data/\"\n",
    "\n",
    "# Get all files that end with .csv\n",
    "csvs = [(data_path + f) for f in os.listdir(data_path) if f.endswith(\".csv\")]\n",
    "\n",
    "# Move files from GitHub to MinIO\n",
    "for f in csvs:\n",
    "    shutil.move(f, f.replace('./Data/', '../minio/standard/private/data/'))\n",
    "\n",
    "# Ensure that all files have been moved\n",
    "assert len(os.listdir(data_path)) == 0"
   ]
  },
  {
   "cell_type": "code",
   "execution_count": null,
   "id": "8a868b23",
   "metadata": {},
   "outputs": [],
   "source": [
    "# Update Git Repo\n",
    "\n",
    "# Git Config\n",
    "std_out = subprocess.run([\"git\", \"config\", \"--global\", \"user.email\", '\"dennishuynh3@gmail.com\"'], capture_output=True, text=True)\n",
    "print(std_out)\n",
    "std_out = subprocess.run([\"git\", \"config\", \"--global\", \"user.name\", '\"DennisH3\"'], capture_output=True, text=True)\n",
    "print(std_out)\n",
    "\n",
    "# Git add and commit\n",
    "std_out = subprocess.run([\"git\", \"add\", \".\"], capture_output=True, text=True)\n",
    "print(std_out)\n",
    "std_out = subprocess.run([\"git\", \"commit\", \"-m\", \"Remove data\"], capture_output=True, text=True).stdout\n",
    "print(std_out)"
   ]
  },
  {
   "cell_type": "code",
   "execution_count": null,
   "id": "ef1bb4ca",
   "metadata": {},
   "outputs": [],
   "source": [
    "push = \"git push --repo https://{}:{}@github.com/CSBP-CPSE/ais-data.git\".format(un, pw)\n",
    "\n",
    "std_out = subprocess.run([push], capture_output=True, text=True, shell=True).stderr\n",
    "print(std_out)"
   ]
  },
  {
   "cell_type": "code",
   "execution_count": null,
   "id": "fe1b5395",
   "metadata": {},
   "outputs": [],
   "source": []
  }
 ],
 "metadata": {
  "kernelspec": {
   "display_name": "Python 3 (ipykernel)",
   "language": "python",
   "name": "python3"
  },
  "language_info": {
   "codemirror_mode": {
    "name": "ipython",
    "version": 3
   },
   "file_extension": ".py",
   "mimetype": "text/x-python",
   "name": "python",
   "nbconvert_exporter": "python",
   "pygments_lexer": "ipython3",
   "version": "3.8.10"
  }
 },
 "nbformat": 4,
 "nbformat_minor": 5
}
