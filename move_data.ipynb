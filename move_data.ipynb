{
 "cells": [
  {
   "cell_type": "code",
   "execution_count": 16,
   "id": "0796344b",
   "metadata": {},
   "outputs": [],
   "source": [
    "import sys\n",
    "import os\n",
    "import shutil\n",
    "import subprocess\n",
    "import getpass"
   ]
  },
  {
   "cell_type": "code",
   "execution_count": 17,
   "id": "01f425bc",
   "metadata": {},
   "outputs": [
    {
     "name": "stdout",
     "output_type": "stream",
     "text": [
      "CompletedProcess(args=['git', 'pull'], returncode=0, stdout='Updating 4de7150..67a4a1f\\nFast-forward\\n Data/2019-01-01_to_2019-01-31_chunk_0.csv | 94665 ++++++++++++++++++++++++++++\\n Data/2019-01-01_to_2019-01-31_chunk_1.csv | 94665 ++++++++++++++++++++++++++++\\n Data/2019-01-01_to_2019-01-31_chunk_2.csv | 94664 +++++++++++++++++++++++++++\\n Data/2019-01-01_to_2019-01-31_chunk_3.csv | 94664 +++++++++++++++++++++++++++\\n Data/2019-01-01_to_2019-01-31_chunk_4.csv | 94664 +++++++++++++++++++++++++++\\n Data/2019-01-01_to_2019-01-31_chunk_5.csv | 94664 +++++++++++++++++++++++++++\\n Data/2019-01-01_to_2019-01-31_chunk_6.csv | 94664 +++++++++++++++++++++++++++\\n Data/2019-01-01_to_2019-01-31_chunk_7.csv | 94664 +++++++++++++++++++++++++++\\n 8 files changed, 757314 insertions(+)\\n create mode 100644 Data/2019-01-01_to_2019-01-31_chunk_0.csv\\n create mode 100644 Data/2019-01-01_to_2019-01-31_chunk_1.csv\\n create mode 100644 Data/2019-01-01_to_2019-01-31_chunk_2.csv\\n create mode 100644 Data/2019-01-01_to_2019-01-31_chunk_3.csv\\n create mode 100644 Data/2019-01-01_to_2019-01-31_chunk_4.csv\\n create mode 100644 Data/2019-01-01_to_2019-01-31_chunk_5.csv\\n create mode 100644 Data/2019-01-01_to_2019-01-31_chunk_6.csv\\n create mode 100644 Data/2019-01-01_to_2019-01-31_chunk_7.csv\\n', stderr='From https://github.com/CSBP-CPSE/ais-data\\n   4de7150..67a4a1f  main       -> origin/main\\n')\n"
     ]
    }
   ],
   "source": [
    "# Git pull\n",
    "std_out = subprocess.run([\"git\", \"pull\"], capture_output=True, text=True)\n",
    "print(std_out)"
   ]
  },
  {
   "cell_type": "code",
   "execution_count": null,
   "id": "422fe0b3",
   "metadata": {},
   "outputs": [],
   "source": [
    "# Set data path\n",
    "data_path = \"./Data/\"\n",
    "\n",
    "# Get all files that end with .csv\n",
    "csvs = [(data_path + f) for f in os.listdir(data_path) if f.endswith(\".csv\")]\n",
    "\n",
    "# Move files from GitHub to MinIO\n",
    "for f in csvs:\n",
    "    shutil.move(f, f.replace('./Data/', '../minio/standard/private/data/'))\n",
    "\n",
    "# Ensure that all files have been moved\n",
    "assert len(os.listdir(data_path)) == 0"
   ]
  },
  {
   "cell_type": "code",
   "execution_count": 10,
   "id": "8a868b23",
   "metadata": {},
   "outputs": [
    {
     "name": "stdout",
     "output_type": "stream",
     "text": [
      "CompletedProcess(args=['git', 'config', '--global', 'user.email', '\"dennishuynh3@gmail.com\"'], returncode=0, stdout='', stderr='')\n",
      "CompletedProcess(args=['git', 'config', '--global', 'user.name', '\"DennisH3\"'], returncode=0, stdout='', stderr='')\n",
      "CompletedProcess(args=['git', 'add', '.'], returncode=0, stdout='', stderr='')\n",
      "CompletedProcess(args=['git', 'commit', '-m', 'Remove data'], returncode=0, stdout='[main ef15aaa] Remove data\\n 12 files changed, 152 insertions(+), 1109703 deletions(-)\\n create mode 100644 .ipynb_checkpoints/move_data-checkpoint.ipynb\\n delete mode 100644 Data/van_port_0.csv\\n delete mode 100644 Data/van_port_1.csv\\n delete mode 100644 Data/van_port_2.csv\\n delete mode 100644 Data/van_port_3.csv\\n delete mode 100644 Data/van_port_4.csv\\n delete mode 100644 Data/van_port_5.csv\\n delete mode 100644 Data/van_port_6.csv\\n delete mode 100644 Data/van_port_7.csv\\n delete mode 100644 Data/van_port_8.csv\\n delete mode 100644 Data/van_port_9.csv\\n', stderr='')\n"
     ]
    }
   ],
   "source": [
    "# Update Git Repo\n",
    "\n",
    "# Git Config\n",
    "std_out = subprocess.run([\"git\", \"config\", \"--global\", \"user.email\", '\"dennishuynh3@gmail.com\"'], capture_output=True, text=True)\n",
    "print(std_out)\n",
    "std_out = subprocess.run([\"git\", \"config\", \"--global\", \"user.name\", '\"DennisH3\"'], capture_output=True, text=True)\n",
    "print(std_out)\n",
    "\n",
    "# Git add and commit\n",
    "std_out = subprocess.run([\"git\", \"add\", \".\"], capture_output=True, text=True)\n",
    "print(std_out)\n",
    "std_out = subprocess.run([\"git\", \"commit\", \"-m\", \"Remove data\"], capture_output=True, text=True).stdout\n",
    "print(std_out)"
   ]
  },
  {
   "cell_type": "code",
   "execution_count": 11,
   "id": "0be62032",
   "metadata": {},
   "outputs": [
    {
     "name": "stdout",
     "output_type": "stream",
     "text": [
      "Please enter PAT········\n"
     ]
    }
   ],
   "source": [
    "# Get credentials\n",
    "un = \"DennisH3\"\n",
    "pw = getpass.getpass(prompt=\"Please enter PAT\")"
   ]
  },
  {
   "cell_type": "code",
   "execution_count": 12,
   "id": "ef1bb4ca",
   "metadata": {},
   "outputs": [
    {
     "name": "stdout",
     "output_type": "stream",
     "text": [
      "To https://github.com/CSBP-CPSE/ais-data.git\n",
      "   d236d86..ef15aaa  main -> main\n",
      "\n"
     ]
    }
   ],
   "source": [
    "push = \"git push --repo https://{}:{}@github.com/CSBP-CPSE/ais-data.git\".format(un, pw)\n",
    "\n",
    "std_out = subprocess.run([push], capture_output=True, text=True, shell=True).stderr\n",
    "print(std_out)"
   ]
  },
  {
   "cell_type": "code",
   "execution_count": null,
   "id": "c75545e5",
   "metadata": {},
   "outputs": [],
   "source": []
  }
 ],
 "metadata": {
  "kernelspec": {
   "display_name": "Python 3 (ipykernel)",
   "language": "python",
   "name": "python3"
  },
  "language_info": {
   "codemirror_mode": {
    "name": "ipython",
    "version": 3
   },
   "file_extension": ".py",
   "mimetype": "text/x-python",
   "name": "python",
   "nbconvert_exporter": "python",
   "pygments_lexer": "ipython3",
   "version": "3.8.10"
  }
 },
 "nbformat": 4,
 "nbformat_minor": 5
}
