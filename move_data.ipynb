{
 "cells": [
  {
   "cell_type": "code",
   "execution_count": 1,
   "id": "0796344b",
   "metadata": {},
   "outputs": [],
   "source": [
    "import sys\n",
    "import os\n",
    "import shutil\n",
    "import subprocess\n",
    "import getpass"
   ]
  },
  {
   "cell_type": "code",
   "execution_count": 2,
   "id": "0be62032",
   "metadata": {},
   "outputs": [
    {
     "name": "stdout",
     "output_type": "stream",
     "text": [
      "Please enter PAT········\n"
     ]
    }
   ],
   "source": [
    "# Get credentials\n",
    "un = \"DennisH3\"\n",
    "pw = getpass.getpass(prompt=\"Please enter PAT\")"
   ]
  },
  {
   "cell_type": "code",
   "execution_count": 3,
   "id": "01f425bc",
   "metadata": {},
   "outputs": [
    {
     "name": "stdout",
     "output_type": "stream",
     "text": [
      "CompletedProcess(args=['git', 'pull'], returncode=0, stdout='Updating fd778c3..4eb1643\\nFast-forward\\n ...op20_ports_2019-09-01_to_2019-09-30_chunk_0.csv | 95247 ++++++++++++++++++\\n ...op20_ports_2019-09-01_to_2019-09-30_chunk_1.csv | 95247 ++++++++++++++++++\\n ...p20_ports_2019-09-01_to_2019-09-30_chunk_10.csv | 95246 ++++++++++++++++++\\n ...p20_ports_2019-09-01_to_2019-09-30_chunk_11.csv | 95246 ++++++++++++++++++\\n ...p20_ports_2019-09-01_to_2019-09-30_chunk_12.csv | 95246 ++++++++++++++++++\\n ...p20_ports_2019-09-01_to_2019-09-30_chunk_13.csv | 95246 ++++++++++++++++++\\n ...op20_ports_2019-09-01_to_2019-09-30_chunk_2.csv | 95247 ++++++++++++++++++\\n ...op20_ports_2019-09-01_to_2019-09-30_chunk_3.csv | 95247 ++++++++++++++++++\\n ...op20_ports_2019-09-01_to_2019-09-30_chunk_4.csv | 95247 ++++++++++++++++++\\n ...op20_ports_2019-09-01_to_2019-09-30_chunk_5.csv | 95247 ++++++++++++++++++\\n ...op20_ports_2019-09-01_to_2019-09-30_chunk_6.csv | 95246 ++++++++++++++++++\\n ...op20_ports_2019-09-01_to_2019-09-30_chunk_7.csv | 95246 ++++++++++++++++++\\n ...op20_ports_2019-09-01_to_2019-09-30_chunk_8.csv | 95246 ++++++++++++++++++\\n ...op20_ports_2019-09-01_to_2019-09-30_chunk_9.csv | 95246 ++++++++++++++++++\\n ...op20_ports_2019-10-01_to_2019-10-31_chunk_0.csv | 94366 ++++++++++++++++++\\n ...op20_ports_2019-10-01_to_2019-10-31_chunk_1.csv | 94366 ++++++++++++++++++\\n ...p20_ports_2019-10-01_to_2019-10-31_chunk_10.csv | 94366 ++++++++++++++++++\\n ...p20_ports_2019-10-01_to_2019-10-31_chunk_11.csv | 94365 ++++++++++++++++++\\n ...p20_ports_2019-10-01_to_2019-10-31_chunk_12.csv | 94365 ++++++++++++++++++\\n ...p20_ports_2019-10-01_to_2019-10-31_chunk_13.csv | 94365 ++++++++++++++++++\\n ...p20_ports_2019-10-01_to_2019-10-31_chunk_14.csv | 94365 ++++++++++++++++++\\n ...p20_ports_2019-10-01_to_2019-10-31_chunk_15.csv | 94365 ++++++++++++++++++\\n ...op20_ports_2019-10-01_to_2019-10-31_chunk_2.csv | 94366 ++++++++++++++++++\\n ...op20_ports_2019-10-01_to_2019-10-31_chunk_3.csv | 94366 ++++++++++++++++++\\n ...op20_ports_2019-10-01_to_2019-10-31_chunk_4.csv | 94366 ++++++++++++++++++\\n ...op20_ports_2019-10-01_to_2019-10-31_chunk_5.csv | 94366 ++++++++++++++++++\\n ...op20_ports_2019-10-01_to_2019-10-31_chunk_6.csv | 94366 ++++++++++++++++++\\n ...op20_ports_2019-10-01_to_2019-10-31_chunk_7.csv | 94366 ++++++++++++++++++\\n ...op20_ports_2019-10-01_to_2019-10-31_chunk_8.csv | 94366 ++++++++++++++++++\\n ...op20_ports_2019-10-01_to_2019-10-31_chunk_9.csv | 94366 ++++++++++++++++++\\n ...op20_ports_2019-11-01_to_2019-11-30_chunk_0.csv | 95071 ++++++++++++++++++\\n ...op20_ports_2019-11-01_to_2019-11-30_chunk_1.csv | 95071 ++++++++++++++++++\\n ...p20_ports_2019-11-01_to_2019-11-30_chunk_10.csv | 95070 ++++++++++++++++++\\n ...p20_ports_2019-11-01_to_2019-11-30_chunk_11.csv | 95070 ++++++++++++++++++\\n ...p20_ports_2019-11-01_to_2019-11-30_chunk_12.csv | 95070 ++++++++++++++++++\\n ...p20_ports_2019-11-01_to_2019-11-30_chunk_13.csv | 95070 ++++++++++++++++++\\n ...p20_ports_2019-11-01_to_2019-11-30_chunk_14.csv | 95070 ++++++++++++++++++\\n ...p20_ports_2019-11-01_to_2019-11-30_chunk_15.csv | 95070 ++++++++++++++++++\\n ...p20_ports_2019-11-01_to_2019-11-30_chunk_16.csv | 95070 ++++++++++++++++++\\n ...p20_ports_2019-11-01_to_2019-11-30_chunk_17.csv | 95070 ++++++++++++++++++\\n ...op20_ports_2019-11-01_to_2019-11-30_chunk_2.csv | 95071 ++++++++++++++++++\\n ...op20_ports_2019-11-01_to_2019-11-30_chunk_3.csv | 95071 ++++++++++++++++++\\n ...op20_ports_2019-11-01_to_2019-11-30_chunk_4.csv | 95071 ++++++++++++++++++\\n ...op20_ports_2019-11-01_to_2019-11-30_chunk_5.csv | 95071 ++++++++++++++++++\\n ...op20_ports_2019-11-01_to_2019-11-30_chunk_6.csv | 95071 ++++++++++++++++++\\n ...op20_ports_2019-11-01_to_2019-11-30_chunk_7.csv | 95071 ++++++++++++++++++\\n ...op20_ports_2019-11-01_to_2019-11-30_chunk_8.csv | 95071 ++++++++++++++++++\\n ...op20_ports_2019-11-01_to_2019-11-30_chunk_9.csv | 95070 ++++++++++++++++++\\n ...op20_ports_2019-12-01_to_2019-12-31_chunk_0.csv | 97251 +++++++++++++++++++\\n ...op20_ports_2019-12-01_to_2019-12-31_chunk_1.csv | 97251 +++++++++++++++++++\\n ...p20_ports_2019-12-01_to_2019-12-31_chunk_10.csv | 97251 +++++++++++++++++++\\n ...p20_ports_2019-12-01_to_2019-12-31_chunk_11.csv | 97251 +++++++++++++++++++\\n ...p20_ports_2019-12-01_to_2019-12-31_chunk_12.csv | 97251 +++++++++++++++++++\\n ...p20_ports_2019-12-01_to_2019-12-31_chunk_13.csv | 97251 +++++++++++++++++++\\n ...p20_ports_2019-12-01_to_2019-12-31_chunk_14.csv | 97250 ++++++++++++++++++\\n ...p20_ports_2019-12-01_to_2019-12-31_chunk_15.csv | 97250 ++++++++++++++++++\\n ...p20_ports_2019-12-01_to_2019-12-31_chunk_16.csv | 97250 ++++++++++++++++++\\n ...p20_ports_2019-12-01_to_2019-12-31_chunk_17.csv | 97250 ++++++++++++++++++\\n ...op20_ports_2019-12-01_to_2019-12-31_chunk_2.csv | 97251 +++++++++++++++++++\\n ...op20_ports_2019-12-01_to_2019-12-31_chunk_3.csv | 97251 +++++++++++++++++++\\n ...op20_ports_2019-12-01_to_2019-12-31_chunk_4.csv | 97251 +++++++++++++++++++\\n ...op20_ports_2019-12-01_to_2019-12-31_chunk_5.csv | 97251 +++++++++++++++++++\\n ...op20_ports_2019-12-01_to_2019-12-31_chunk_6.csv | 97251 +++++++++++++++++++\\n ...op20_ports_2019-12-01_to_2019-12-31_chunk_7.csv | 97251 +++++++++++++++++++\\n ...op20_ports_2019-12-01_to_2019-12-31_chunk_8.csv | 97251 +++++++++++++++++++\\n ...op20_ports_2019-12-01_to_2019-12-31_chunk_9.csv | 97251 +++++++++++++++++++\\n 66 files changed, 6305084 insertions(+)\\n create mode 100644 Data/top20_ports_2019-09-01_to_2019-09-30_chunk_0.csv\\n create mode 100644 Data/top20_ports_2019-09-01_to_2019-09-30_chunk_1.csv\\n create mode 100644 Data/top20_ports_2019-09-01_to_2019-09-30_chunk_10.csv\\n create mode 100644 Data/top20_ports_2019-09-01_to_2019-09-30_chunk_11.csv\\n create mode 100644 Data/top20_ports_2019-09-01_to_2019-09-30_chunk_12.csv\\n create mode 100644 Data/top20_ports_2019-09-01_to_2019-09-30_chunk_13.csv\\n create mode 100644 Data/top20_ports_2019-09-01_to_2019-09-30_chunk_2.csv\\n create mode 100644 Data/top20_ports_2019-09-01_to_2019-09-30_chunk_3.csv\\n create mode 100644 Data/top20_ports_2019-09-01_to_2019-09-30_chunk_4.csv\\n create mode 100644 Data/top20_ports_2019-09-01_to_2019-09-30_chunk_5.csv\\n create mode 100644 Data/top20_ports_2019-09-01_to_2019-09-30_chunk_6.csv\\n create mode 100644 Data/top20_ports_2019-09-01_to_2019-09-30_chunk_7.csv\\n create mode 100644 Data/top20_ports_2019-09-01_to_2019-09-30_chunk_8.csv\\n create mode 100644 Data/top20_ports_2019-09-01_to_2019-09-30_chunk_9.csv\\n create mode 100644 Data/top20_ports_2019-10-01_to_2019-10-31_chunk_0.csv\\n create mode 100644 Data/top20_ports_2019-10-01_to_2019-10-31_chunk_1.csv\\n create mode 100644 Data/top20_ports_2019-10-01_to_2019-10-31_chunk_10.csv\\n create mode 100644 Data/top20_ports_2019-10-01_to_2019-10-31_chunk_11.csv\\n create mode 100644 Data/top20_ports_2019-10-01_to_2019-10-31_chunk_12.csv\\n create mode 100644 Data/top20_ports_2019-10-01_to_2019-10-31_chunk_13.csv\\n create mode 100644 Data/top20_ports_2019-10-01_to_2019-10-31_chunk_14.csv\\n create mode 100644 Data/top20_ports_2019-10-01_to_2019-10-31_chunk_15.csv\\n create mode 100644 Data/top20_ports_2019-10-01_to_2019-10-31_chunk_2.csv\\n create mode 100644 Data/top20_ports_2019-10-01_to_2019-10-31_chunk_3.csv\\n create mode 100644 Data/top20_ports_2019-10-01_to_2019-10-31_chunk_4.csv\\n create mode 100644 Data/top20_ports_2019-10-01_to_2019-10-31_chunk_5.csv\\n create mode 100644 Data/top20_ports_2019-10-01_to_2019-10-31_chunk_6.csv\\n create mode 100644 Data/top20_ports_2019-10-01_to_2019-10-31_chunk_7.csv\\n create mode 100644 Data/top20_ports_2019-10-01_to_2019-10-31_chunk_8.csv\\n create mode 100644 Data/top20_ports_2019-10-01_to_2019-10-31_chunk_9.csv\\n create mode 100644 Data/top20_ports_2019-11-01_to_2019-11-30_chunk_0.csv\\n create mode 100644 Data/top20_ports_2019-11-01_to_2019-11-30_chunk_1.csv\\n create mode 100644 Data/top20_ports_2019-11-01_to_2019-11-30_chunk_10.csv\\n create mode 100644 Data/top20_ports_2019-11-01_to_2019-11-30_chunk_11.csv\\n create mode 100644 Data/top20_ports_2019-11-01_to_2019-11-30_chunk_12.csv\\n create mode 100644 Data/top20_ports_2019-11-01_to_2019-11-30_chunk_13.csv\\n create mode 100644 Data/top20_ports_2019-11-01_to_2019-11-30_chunk_14.csv\\n create mode 100644 Data/top20_ports_2019-11-01_to_2019-11-30_chunk_15.csv\\n create mode 100644 Data/top20_ports_2019-11-01_to_2019-11-30_chunk_16.csv\\n create mode 100644 Data/top20_ports_2019-11-01_to_2019-11-30_chunk_17.csv\\n create mode 100644 Data/top20_ports_2019-11-01_to_2019-11-30_chunk_2.csv\\n create mode 100644 Data/top20_ports_2019-11-01_to_2019-11-30_chunk_3.csv\\n create mode 100644 Data/top20_ports_2019-11-01_to_2019-11-30_chunk_4.csv\\n create mode 100644 Data/top20_ports_2019-11-01_to_2019-11-30_chunk_5.csv\\n create mode 100644 Data/top20_ports_2019-11-01_to_2019-11-30_chunk_6.csv\\n create mode 100644 Data/top20_ports_2019-11-01_to_2019-11-30_chunk_7.csv\\n create mode 100644 Data/top20_ports_2019-11-01_to_2019-11-30_chunk_8.csv\\n create mode 100644 Data/top20_ports_2019-11-01_to_2019-11-30_chunk_9.csv\\n create mode 100644 Data/top20_ports_2019-12-01_to_2019-12-31_chunk_0.csv\\n create mode 100644 Data/top20_ports_2019-12-01_to_2019-12-31_chunk_1.csv\\n create mode 100644 Data/top20_ports_2019-12-01_to_2019-12-31_chunk_10.csv\\n create mode 100644 Data/top20_ports_2019-12-01_to_2019-12-31_chunk_11.csv\\n create mode 100644 Data/top20_ports_2019-12-01_to_2019-12-31_chunk_12.csv\\n create mode 100644 Data/top20_ports_2019-12-01_to_2019-12-31_chunk_13.csv\\n create mode 100644 Data/top20_ports_2019-12-01_to_2019-12-31_chunk_14.csv\\n create mode 100644 Data/top20_ports_2019-12-01_to_2019-12-31_chunk_15.csv\\n create mode 100644 Data/top20_ports_2019-12-01_to_2019-12-31_chunk_16.csv\\n create mode 100644 Data/top20_ports_2019-12-01_to_2019-12-31_chunk_17.csv\\n create mode 100644 Data/top20_ports_2019-12-01_to_2019-12-31_chunk_2.csv\\n create mode 100644 Data/top20_ports_2019-12-01_to_2019-12-31_chunk_3.csv\\n create mode 100644 Data/top20_ports_2019-12-01_to_2019-12-31_chunk_4.csv\\n create mode 100644 Data/top20_ports_2019-12-01_to_2019-12-31_chunk_5.csv\\n create mode 100644 Data/top20_ports_2019-12-01_to_2019-12-31_chunk_6.csv\\n create mode 100644 Data/top20_ports_2019-12-01_to_2019-12-31_chunk_7.csv\\n create mode 100644 Data/top20_ports_2019-12-01_to_2019-12-31_chunk_8.csv\\n create mode 100644 Data/top20_ports_2019-12-01_to_2019-12-31_chunk_9.csv\\n', stderr='From https://github.com/CSBP-CPSE/ais-data\\n   e9f0dc4..4eb1643  main       -> origin/main\\nUpdating files:  12% (8/66)\\nUpdating files:  13% (9/66)\\nUpdating files:  15% (10/66)\\nUpdating files:  16% (11/66)\\nUpdating files:  18% (12/66)\\nUpdating files:  19% (13/66)\\nUpdating files:  21% (14/66)\\nUpdating files:  22% (15/66)\\nUpdating files:  24% (16/66)\\nUpdating files:  25% (17/66)\\nUpdating files:  27% (18/66)\\nUpdating files:  28% (19/66)\\nUpdating files:  30% (20/66)\\nUpdating files:  31% (21/66)\\nUpdating files:  33% (22/66)\\nUpdating files:  34% (23/66)\\nUpdating files:  36% (24/66)\\nUpdating files:  37% (25/66)\\nUpdating files:  39% (26/66)\\nUpdating files:  40% (27/66)\\nUpdating files:  42% (28/66)\\nUpdating files:  43% (29/66)\\nUpdating files:  45% (30/66)\\nUpdating files:  46% (31/66)\\nUpdating files:  48% (32/66)\\nUpdating files:  50% (33/66)\\nUpdating files:  51% (34/66)\\nUpdating files:  53% (35/66)\\nUpdating files:  54% (36/66)\\nUpdating files:  56% (37/66)\\nUpdating files:  57% (38/66)\\nUpdating files:  59% (39/66)\\nUpdating files:  60% (40/66)\\nUpdating files:  62% (41/66)\\nUpdating files:  63% (42/66)\\nUpdating files:  65% (43/66)\\nUpdating files:  66% (44/66)\\nUpdating files:  68% (45/66)\\nUpdating files:  69% (46/66)\\nUpdating files:  71% (47/66)\\nUpdating files:  72% (48/66)\\nUpdating files:  74% (49/66)\\nUpdating files:  75% (50/66)\\nUpdating files:  77% (51/66)\\nUpdating files:  78% (52/66)\\nUpdating files:  80% (53/66)\\nUpdating files:  81% (54/66)\\nUpdating files:  83% (55/66)\\nUpdating files:  84% (56/66)\\nUpdating files:  86% (57/66)\\nUpdating files:  87% (58/66)\\nUpdating files:  89% (59/66)\\nUpdating files:  90% (60/66)\\nUpdating files:  92% (61/66)\\nUpdating files:  93% (62/66)\\nUpdating files:  95% (63/66)\\nUpdating files:  96% (64/66)\\nUpdating files:  98% (65/66)\\nUpdating files: 100% (66/66)\\nUpdating files: 100% (66/66), done.\\n')\n"
     ]
    }
   ],
   "source": [
    "# Git pull\n",
    "std_out = subprocess.run([\"git\", \"pull\"], capture_output=True, text=True)\n",
    "print(std_out)"
   ]
  },
  {
   "cell_type": "code",
   "execution_count": null,
   "id": "422fe0b3",
   "metadata": {},
   "outputs": [],
   "source": [
    "%%time\n",
    "# Set data path\n",
    "data_path = \"./Data/\"\n",
    "\n",
    "# Get all files that end with .csv\n",
    "csvs = [(data_path + f) for f in os.listdir(data_path) if f.endswith(\".csv\")]\n",
    "\n",
    "# Move files from GitHub to MinIO\n",
    "for f in csvs:\n",
    "    shutil.move(f, f.replace('./Data/', '../minio/standard/private/data/'))\n",
    "\n",
    "# Ensure that all files have been moved\n",
    "assert len(os.listdir(data_path)) == 0"
   ]
  },
  {
   "cell_type": "code",
   "execution_count": null,
   "id": "8a868b23",
   "metadata": {},
   "outputs": [],
   "source": [
    "# Update Git Repo\n",
    "\n",
    "# Git Config\n",
    "std_out = subprocess.run([\"git\", \"config\", \"--global\", \"user.email\", '\"dennishuynh3@gmail.com\"'], capture_output=True, text=True)\n",
    "print(std_out)\n",
    "std_out = subprocess.run([\"git\", \"config\", \"--global\", \"user.name\", '\"DennisH3\"'], capture_output=True, text=True)\n",
    "print(std_out)\n",
    "\n",
    "# Git add and commit\n",
    "std_out = subprocess.run([\"git\", \"add\", \".\"], capture_output=True, text=True)\n",
    "print(std_out)\n",
    "std_out = subprocess.run([\"git\", \"commit\", \"-m\", \"Remove data\"], capture_output=True, text=True).stdout\n",
    "print(std_out)"
   ]
  },
  {
   "cell_type": "code",
   "execution_count": null,
   "id": "ef1bb4ca",
   "metadata": {},
   "outputs": [],
   "source": [
    "push = \"git push --repo https://{}:{}@github.com/CSBP-CPSE/ais-data.git\".format(un, pw)\n",
    "\n",
    "std_out = subprocess.run([push], capture_output=True, text=True, shell=True).stderr\n",
    "print(std_out)"
   ]
  },
  {
   "cell_type": "code",
   "execution_count": null,
   "id": "fe1b5395",
   "metadata": {},
   "outputs": [],
   "source": []
  }
 ],
 "metadata": {
  "kernelspec": {
   "display_name": "Python 3 (ipykernel)",
   "language": "python",
   "name": "python3"
  },
  "language_info": {
   "codemirror_mode": {
    "name": "ipython",
    "version": 3
   },
   "file_extension": ".py",
   "mimetype": "text/x-python",
   "name": "python",
   "nbconvert_exporter": "python",
   "pygments_lexer": "ipython3",
   "version": "3.8.10"
  }
 },
 "nbformat": 4,
 "nbformat_minor": 5
}
