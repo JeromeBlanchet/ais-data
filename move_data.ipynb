{
 "cells": [
  {
   "cell_type": "code",
   "execution_count": 1,
   "id": "0796344b",
   "metadata": {},
   "outputs": [],
   "source": [
    "import sys\n",
    "import os\n",
    "import shutil\n",
    "import subprocess\n",
    "import getpass"
   ]
  },
  {
   "cell_type": "code",
   "execution_count": 2,
   "id": "0be62032",
   "metadata": {},
   "outputs": [
    {
     "name": "stdout",
     "output_type": "stream",
     "text": [
      "Please enter PAT········\n"
     ]
    }
   ],
   "source": [
    "# Get credentials\n",
    "un = \"DennisH3\"\n",
    "pw = getpass.getpass(prompt=\"Please enter PAT\")"
   ]
  },
  {
   "cell_type": "code",
   "execution_count": 11,
   "id": "01f425bc",
   "metadata": {},
   "outputs": [
    {
     "name": "stdout",
     "output_type": "stream",
     "text": [
      "CompletedProcess(args=['git', 'pull'], returncode=0, stdout='Updating b0e9f19..7e5c790\\nFast-forward\\n ...op20_ports_2019-02-01_to_2019-02-28_chunk_0.csv | 97460 +++++++++++++++++++\\n ...op20_ports_2019-02-01_to_2019-02-28_chunk_1.csv | 97460 +++++++++++++++++++\\n ...p20_ports_2019-02-01_to_2019-02-28_chunk_10.csv | 97460 +++++++++++++++++++\\n ...p20_ports_2019-02-01_to_2019-02-28_chunk_11.csv | 97460 +++++++++++++++++++\\n ...p20_ports_2019-02-01_to_2019-02-28_chunk_12.csv | 97460 +++++++++++++++++++\\n ...p20_ports_2019-02-01_to_2019-02-28_chunk_13.csv | 97460 +++++++++++++++++++\\n ...p20_ports_2019-02-01_to_2019-02-28_chunk_14.csv | 97460 +++++++++++++++++++\\n ...p20_ports_2019-02-01_to_2019-02-28_chunk_15.csv | 97460 +++++++++++++++++++\\n ...p20_ports_2019-02-01_to_2019-02-28_chunk_16.csv | 97460 +++++++++++++++++++\\n ...op20_ports_2019-02-01_to_2019-02-28_chunk_2.csv | 97460 +++++++++++++++++++\\n ...op20_ports_2019-02-01_to_2019-02-28_chunk_3.csv | 97460 +++++++++++++++++++\\n ...op20_ports_2019-02-01_to_2019-02-28_chunk_4.csv | 97460 +++++++++++++++++++\\n ...op20_ports_2019-02-01_to_2019-02-28_chunk_5.csv | 97460 +++++++++++++++++++\\n ...op20_ports_2019-02-01_to_2019-02-28_chunk_6.csv | 97460 +++++++++++++++++++\\n ...op20_ports_2019-02-01_to_2019-02-28_chunk_7.csv | 97460 +++++++++++++++++++\\n ...op20_ports_2019-02-01_to_2019-02-28_chunk_8.csv | 97460 +++++++++++++++++++\\n ...op20_ports_2019-02-01_to_2019-02-28_chunk_9.csv | 97460 +++++++++++++++++++\\n 17 files changed, 1656820 insertions(+)\\n create mode 100644 Data/top20_ports_2019-02-01_to_2019-02-28_chunk_0.csv\\n create mode 100644 Data/top20_ports_2019-02-01_to_2019-02-28_chunk_1.csv\\n create mode 100644 Data/top20_ports_2019-02-01_to_2019-02-28_chunk_10.csv\\n create mode 100644 Data/top20_ports_2019-02-01_to_2019-02-28_chunk_11.csv\\n create mode 100644 Data/top20_ports_2019-02-01_to_2019-02-28_chunk_12.csv\\n create mode 100644 Data/top20_ports_2019-02-01_to_2019-02-28_chunk_13.csv\\n create mode 100644 Data/top20_ports_2019-02-01_to_2019-02-28_chunk_14.csv\\n create mode 100644 Data/top20_ports_2019-02-01_to_2019-02-28_chunk_15.csv\\n create mode 100644 Data/top20_ports_2019-02-01_to_2019-02-28_chunk_16.csv\\n create mode 100644 Data/top20_ports_2019-02-01_to_2019-02-28_chunk_2.csv\\n create mode 100644 Data/top20_ports_2019-02-01_to_2019-02-28_chunk_3.csv\\n create mode 100644 Data/top20_ports_2019-02-01_to_2019-02-28_chunk_4.csv\\n create mode 100644 Data/top20_ports_2019-02-01_to_2019-02-28_chunk_5.csv\\n create mode 100644 Data/top20_ports_2019-02-01_to_2019-02-28_chunk_6.csv\\n create mode 100644 Data/top20_ports_2019-02-01_to_2019-02-28_chunk_7.csv\\n create mode 100644 Data/top20_ports_2019-02-01_to_2019-02-28_chunk_8.csv\\n create mode 100644 Data/top20_ports_2019-02-01_to_2019-02-28_chunk_9.csv\\n', stderr='From https://github.com/CSBP-CPSE/ais-data\\n   cf999a8..7e5c790  main       -> origin/main\\nUpdating files:  47% (8/17)\\nUpdating files:  52% (9/17)\\nUpdating files:  58% (10/17)\\nUpdating files:  64% (11/17)\\nUpdating files:  70% (12/17)\\nUpdating files:  76% (13/17)\\nUpdating files:  82% (14/17)\\nUpdating files:  88% (15/17)\\nUpdating files:  94% (16/17)\\nUpdating files: 100% (17/17)\\nUpdating files: 100% (17/17), done.\\n')\n"
     ]
    }
   ],
   "source": [
    "# Git pull\n",
    "std_out = subprocess.run([\"git\", \"pull\"], capture_output=True, text=True)\n",
    "print(std_out)"
   ]
  },
  {
   "cell_type": "code",
   "execution_count": null,
   "id": "422fe0b3",
   "metadata": {},
   "outputs": [],
   "source": [
    "# Set data path\n",
    "data_path = \"./Data/\"\n",
    "\n",
    "# Get all files that end with .csv\n",
    "csvs = [(data_path + f) for f in os.listdir(data_path) if f.endswith(\".csv\")]\n",
    "\n",
    "# Move files from GitHub to MinIO\n",
    "for f in csvs:\n",
    "    shutil.move(f, f.replace('./Data/', '../minio/standard/private/data/'))\n",
    "\n",
    "# Ensure that all files have been moved\n",
    "assert len(os.listdir(data_path)) == 0"
   ]
  },
  {
   "cell_type": "code",
   "execution_count": null,
   "id": "8a868b23",
   "metadata": {},
   "outputs": [],
   "source": [
    "# Update Git Repo\n",
    "\n",
    "# Git Config\n",
    "std_out = subprocess.run([\"git\", \"config\", \"--global\", \"user.email\", '\"dennishuynh3@gmail.com\"'], capture_output=True, text=True)\n",
    "print(std_out)\n",
    "std_out = subprocess.run([\"git\", \"config\", \"--global\", \"user.name\", '\"DennisH3\"'], capture_output=True, text=True)\n",
    "print(std_out)\n",
    "\n",
    "# Git add and commit\n",
    "std_out = subprocess.run([\"git\", \"add\", \".\"], capture_output=True, text=True)\n",
    "print(std_out)\n",
    "std_out = subprocess.run([\"git\", \"commit\", \"-m\", \"Remove data\"], capture_output=True, text=True).stdout\n",
    "print(std_out)"
   ]
  },
  {
   "cell_type": "code",
   "execution_count": null,
   "id": "ef1bb4ca",
   "metadata": {},
   "outputs": [],
   "source": [
    "push = \"git push --repo https://{}:{}@github.com/CSBP-CPSE/ais-data.git\".format(un, pw)\n",
    "\n",
    "std_out = subprocess.run([push], capture_output=True, text=True, shell=True).stderr\n",
    "print(std_out)"
   ]
  },
  {
   "cell_type": "code",
   "execution_count": null,
   "id": "fe1b5395",
   "metadata": {},
   "outputs": [],
   "source": []
  }
 ],
 "metadata": {
  "kernelspec": {
   "display_name": "Python 3 (ipykernel)",
   "language": "python",
   "name": "python3"
  },
  "language_info": {
   "codemirror_mode": {
    "name": "ipython",
    "version": 3
   },
   "file_extension": ".py",
   "mimetype": "text/x-python",
   "name": "python",
   "nbconvert_exporter": "python",
   "pygments_lexer": "ipython3",
   "version": "3.8.10"
  }
 },
 "nbformat": 4,
 "nbformat_minor": 5
}
