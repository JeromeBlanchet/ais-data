{
 "cells": [
  {
   "cell_type": "code",
   "execution_count": 1,
   "id": "0796344b",
   "metadata": {},
   "outputs": [],
   "source": [
    "import sys\n",
    "import os\n",
    "import shutil\n",
    "import subprocess\n",
    "import getpass"
   ]
  },
  {
   "cell_type": "code",
   "execution_count": 2,
   "id": "0be62032",
   "metadata": {},
   "outputs": [
    {
     "name": "stdout",
     "output_type": "stream",
     "text": [
      "Please enter PAT········\n"
     ]
    }
   ],
   "source": [
    "# Get credentials\n",
    "un = \"DennisH3\"\n",
    "pw = getpass.getpass(prompt=\"Please enter PAT\")"
   ]
  },
  {
   "cell_type": "code",
   "execution_count": 19,
   "id": "01f425bc",
   "metadata": {},
   "outputs": [
    {
     "name": "stdout",
     "output_type": "stream",
     "text": [
      "CompletedProcess(args=['git', 'pull'], returncode=0, stdout='Updating 5d85c0b..4a9c7a2\\nFast-forward\\n ...op20_ports_2019-04-01_to_2019-04-30_chunk_0.csv | 96306 +++++++++++++++++++\\n ...op20_ports_2019-04-01_to_2019-04-30_chunk_1.csv | 96306 +++++++++++++++++++\\n ...p20_ports_2019-04-01_to_2019-04-30_chunk_10.csv | 96306 +++++++++++++++++++\\n ...p20_ports_2019-04-01_to_2019-04-30_chunk_11.csv | 96306 +++++++++++++++++++\\n ...p20_ports_2019-04-01_to_2019-04-30_chunk_12.csv | 96306 +++++++++++++++++++\\n ...p20_ports_2019-04-01_to_2019-04-30_chunk_13.csv | 96306 +++++++++++++++++++\\n ...p20_ports_2019-04-01_to_2019-04-30_chunk_14.csv | 96306 +++++++++++++++++++\\n ...p20_ports_2019-04-01_to_2019-04-30_chunk_15.csv | 96305 ++++++++++++++++++\\n ...p20_ports_2019-04-01_to_2019-04-30_chunk_16.csv | 96305 ++++++++++++++++++\\n ...p20_ports_2019-04-01_to_2019-04-30_chunk_17.csv | 96305 ++++++++++++++++++\\n ...op20_ports_2019-04-01_to_2019-04-30_chunk_2.csv | 96306 +++++++++++++++++++\\n ...op20_ports_2019-04-01_to_2019-04-30_chunk_3.csv | 96306 +++++++++++++++++++\\n ...op20_ports_2019-04-01_to_2019-04-30_chunk_4.csv | 96306 +++++++++++++++++++\\n ...op20_ports_2019-04-01_to_2019-04-30_chunk_5.csv | 96306 +++++++++++++++++++\\n ...op20_ports_2019-04-01_to_2019-04-30_chunk_6.csv | 96306 +++++++++++++++++++\\n ...op20_ports_2019-04-01_to_2019-04-30_chunk_7.csv | 96306 +++++++++++++++++++\\n ...op20_ports_2019-04-01_to_2019-04-30_chunk_8.csv | 96306 +++++++++++++++++++\\n ...op20_ports_2019-04-01_to_2019-04-30_chunk_9.csv | 96306 +++++++++++++++++++\\n 18 files changed, 1733505 insertions(+)\\n create mode 100644 Data/top20_ports_2019-04-01_to_2019-04-30_chunk_0.csv\\n create mode 100644 Data/top20_ports_2019-04-01_to_2019-04-30_chunk_1.csv\\n create mode 100644 Data/top20_ports_2019-04-01_to_2019-04-30_chunk_10.csv\\n create mode 100644 Data/top20_ports_2019-04-01_to_2019-04-30_chunk_11.csv\\n create mode 100644 Data/top20_ports_2019-04-01_to_2019-04-30_chunk_12.csv\\n create mode 100644 Data/top20_ports_2019-04-01_to_2019-04-30_chunk_13.csv\\n create mode 100644 Data/top20_ports_2019-04-01_to_2019-04-30_chunk_14.csv\\n create mode 100644 Data/top20_ports_2019-04-01_to_2019-04-30_chunk_15.csv\\n create mode 100644 Data/top20_ports_2019-04-01_to_2019-04-30_chunk_16.csv\\n create mode 100644 Data/top20_ports_2019-04-01_to_2019-04-30_chunk_17.csv\\n create mode 100644 Data/top20_ports_2019-04-01_to_2019-04-30_chunk_2.csv\\n create mode 100644 Data/top20_ports_2019-04-01_to_2019-04-30_chunk_3.csv\\n create mode 100644 Data/top20_ports_2019-04-01_to_2019-04-30_chunk_4.csv\\n create mode 100644 Data/top20_ports_2019-04-01_to_2019-04-30_chunk_5.csv\\n create mode 100644 Data/top20_ports_2019-04-01_to_2019-04-30_chunk_6.csv\\n create mode 100644 Data/top20_ports_2019-04-01_to_2019-04-30_chunk_7.csv\\n create mode 100644 Data/top20_ports_2019-04-01_to_2019-04-30_chunk_8.csv\\n create mode 100644 Data/top20_ports_2019-04-01_to_2019-04-30_chunk_9.csv\\n', stderr='From https://github.com/CSBP-CPSE/ais-data\\n   bf3f3b5..4a9c7a2  main       -> origin/main\\nUpdating files:  44% (8/18)\\nUpdating files:  50% (9/18)\\nUpdating files:  55% (10/18)\\nUpdating files:  61% (11/18)\\nUpdating files:  66% (12/18)\\nUpdating files:  72% (13/18)\\nUpdating files:  77% (14/18)\\nUpdating files:  83% (15/18)\\nUpdating files:  88% (16/18)\\nUpdating files:  94% (17/18)\\nUpdating files: 100% (18/18)\\nUpdating files: 100% (18/18), done.\\n')\n"
     ]
    }
   ],
   "source": [
    "# Git pull\n",
    "std_out = subprocess.run([\"git\", \"pull\"], capture_output=True, text=True)\n",
    "print(std_out)"
   ]
  },
  {
   "cell_type": "code",
   "execution_count": null,
   "id": "422fe0b3",
   "metadata": {},
   "outputs": [],
   "source": [
    "# Set data path\n",
    "data_path = \"./Data/\"\n",
    "\n",
    "# Get all files that end with .csv\n",
    "csvs = [(data_path + f) for f in os.listdir(data_path) if f.endswith(\".csv\")]\n",
    "\n",
    "# Move files from GitHub to MinIO\n",
    "for f in csvs:\n",
    "    shutil.move(f, f.replace('./Data/', '../minio/standard/private/data/'))\n",
    "\n",
    "# Ensure that all files have been moved\n",
    "assert len(os.listdir(data_path)) == 0"
   ]
  },
  {
   "cell_type": "code",
   "execution_count": null,
   "id": "8a868b23",
   "metadata": {},
   "outputs": [],
   "source": [
    "# Update Git Repo\n",
    "\n",
    "# Git Config\n",
    "std_out = subprocess.run([\"git\", \"config\", \"--global\", \"user.email\", '\"dennishuynh3@gmail.com\"'], capture_output=True, text=True)\n",
    "print(std_out)\n",
    "std_out = subprocess.run([\"git\", \"config\", \"--global\", \"user.name\", '\"DennisH3\"'], capture_output=True, text=True)\n",
    "print(std_out)\n",
    "\n",
    "# Git add and commit\n",
    "std_out = subprocess.run([\"git\", \"add\", \".\"], capture_output=True, text=True)\n",
    "print(std_out)\n",
    "std_out = subprocess.run([\"git\", \"commit\", \"-m\", \"Remove data\"], capture_output=True, text=True).stdout\n",
    "print(std_out)"
   ]
  },
  {
   "cell_type": "code",
   "execution_count": null,
   "id": "ef1bb4ca",
   "metadata": {},
   "outputs": [],
   "source": [
    "push = \"git push --repo https://{}:{}@github.com/CSBP-CPSE/ais-data.git\".format(un, pw)\n",
    "\n",
    "std_out = subprocess.run([push], capture_output=True, text=True, shell=True).stderr\n",
    "print(std_out)"
   ]
  },
  {
   "cell_type": "code",
   "execution_count": null,
   "id": "fe1b5395",
   "metadata": {},
   "outputs": [],
   "source": []
  }
 ],
 "metadata": {
  "kernelspec": {
   "display_name": "Python 3 (ipykernel)",
   "language": "python",
   "name": "python3"
  },
  "language_info": {
   "codemirror_mode": {
    "name": "ipython",
    "version": 3
   },
   "file_extension": ".py",
   "mimetype": "text/x-python",
   "name": "python",
   "nbconvert_exporter": "python",
   "pygments_lexer": "ipython3",
   "version": "3.8.10"
  }
 },
 "nbformat": 4,
 "nbformat_minor": 5
}
