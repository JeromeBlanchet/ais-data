{
 "cells": [
  {
   "cell_type": "code",
   "execution_count": 1,
   "id": "0796344b",
   "metadata": {},
   "outputs": [],
   "source": [
    "import sys\n",
    "import os\n",
    "import shutil\n",
    "import subprocess\n",
    "import getpass"
   ]
  },
  {
   "cell_type": "code",
   "execution_count": 2,
   "id": "0be62032",
   "metadata": {},
   "outputs": [
    {
     "name": "stdout",
     "output_type": "stream",
     "text": [
      "Please enter PAT········\n"
     ]
    }
   ],
   "source": [
    "# Get credentials\n",
    "un = \"DennisH3\"\n",
    "pw = getpass.getpass(prompt=\"Please enter PAT\")"
   ]
  },
  {
   "cell_type": "code",
   "execution_count": 23,
   "id": "01f425bc",
   "metadata": {},
   "outputs": [
    {
     "name": "stdout",
     "output_type": "stream",
     "text": [
      "CompletedProcess(args=['git', 'pull'], returncode=0, stdout='Updating 72f9e1e..3c1ce3d\\nFast-forward\\n ...op20_ports_2018-12-01_to_2018-12-31_chunk_0.csv | 87986 +++++++++++++++++\\n ...op20_ports_2018-12-01_to_2018-12-31_chunk_1.csv | 87986 +++++++++++++++++\\n ...op20_ports_2018-12-01_to_2018-12-31_chunk_2.csv | 87985 +++++++++++++++++\\n ...op20_ports_2018-12-01_to_2018-12-31_chunk_3.csv | 87985 +++++++++++++++++\\n ...op20_ports_2019-01-01_to_2019-01-31_chunk_0.csv | 94321 ++++++++++++++++++\\n ...op20_ports_2019-01-01_to_2019-01-31_chunk_1.csv | 94321 ++++++++++++++++++\\n ...op20_ports_2019-01-01_to_2019-01-31_chunk_2.csv | 94321 ++++++++++++++++++\\n ...op20_ports_2019-01-01_to_2019-01-31_chunk_3.csv | 94321 ++++++++++++++++++\\n ...op20_ports_2019-02-01_to_2019-02-28_chunk_0.csv | 95306 +++++++++++++++++++\\n ...op20_ports_2019-02-01_to_2019-02-28_chunk_1.csv | 95306 +++++++++++++++++++\\n ...op20_ports_2019-02-01_to_2019-02-28_chunk_2.csv | 95305 ++++++++++++++++++\\n ...op20_ports_2019-02-01_to_2019-02-28_chunk_3.csv | 95305 ++++++++++++++++++\\n ...op20_ports_2019-03-01_to_2019-03-31_chunk_0.csv | 85357 +++++++++++++++++\\n ...op20_ports_2019-03-01_to_2019-03-31_chunk_1.csv | 85356 +++++++++++++++++\\n ...op20_ports_2019-03-01_to_2019-03-31_chunk_2.csv | 85356 +++++++++++++++++\\n ...op20_ports_2019-03-01_to_2019-03-31_chunk_3.csv | 85356 +++++++++++++++++\\n ...op20_ports_2019-03-01_to_2019-03-31_chunk_4.csv | 85356 +++++++++++++++++\\n ...op20_ports_2019-04-01_to_2019-04-30_chunk_0.csv | 79102 +++++++++++++++\\n ...op20_ports_2019-04-01_to_2019-04-30_chunk_1.csv | 79102 +++++++++++++++\\n ...op20_ports_2019-04-01_to_2019-04-30_chunk_2.csv | 79102 +++++++++++++++\\n ...op20_ports_2019-04-01_to_2019-04-30_chunk_3.csv | 79102 +++++++++++++++\\n ...op20_ports_2019-05-01_to_2019-05-31_chunk_0.csv | 75234 +++++++++++++++\\n ...op20_ports_2019-05-01_to_2019-05-31_chunk_1.csv | 75233 +++++++++++++++\\n ...op20_ports_2019-05-01_to_2019-05-31_chunk_2.csv | 75233 +++++++++++++++\\n ...op20_ports_2019-05-01_to_2019-05-31_chunk_3.csv | 75233 +++++++++++++++\\n ...op20_ports_2019-06-01_to_2019-06-30_chunk_0.csv | 91324 ++++++++++++++++++\\n ...op20_ports_2019-06-01_to_2019-06-30_chunk_1.csv | 91324 ++++++++++++++++++\\n ...op20_ports_2019-06-01_to_2019-06-30_chunk_2.csv | 91323 ++++++++++++++++++\\n ...op20_ports_2019-07-01_to_2019-07-31_chunk_0.csv | 89834 +++++++++++++++++\\n ...op20_ports_2019-07-01_to_2019-07-31_chunk_1.csv | 89834 +++++++++++++++++\\n ...op20_ports_2019-07-01_to_2019-07-31_chunk_2.csv | 89833 +++++++++++++++++\\n ...op20_ports_2019-08-01_to_2019-08-31_chunk_0.csv | 88765 +++++++++++++++++\\n ...op20_ports_2019-08-01_to_2019-08-31_chunk_1.csv | 88764 +++++++++++++++++\\n ...op20_ports_2019-08-01_to_2019-08-31_chunk_2.csv | 88764 +++++++++++++++++\\n ...op20_ports_2019-09-01_to_2019-09-30_chunk_0.csv | 86048 +++++++++++++++++\\n ...op20_ports_2019-09-01_to_2019-09-30_chunk_1.csv | 86048 +++++++++++++++++\\n ...op20_ports_2019-09-01_to_2019-09-30_chunk_2.csv | 86048 +++++++++++++++++\\n ...op20_ports_2019-10-01_to_2019-10-31_chunk_0.csv | 75176 +++++++++++++++\\n ...op20_ports_2019-10-01_to_2019-10-31_chunk_1.csv | 75175 +++++++++++++++\\n ...op20_ports_2019-10-01_to_2019-10-31_chunk_2.csv | 75175 +++++++++++++++\\n ...op20_ports_2019-10-01_to_2019-10-31_chunk_3.csv | 75175 +++++++++++++++\\n ...op20_ports_2019-11-01_to_2019-11-30_chunk_0.csv | 78347 +++++++++++++++\\n ...op20_ports_2019-11-01_to_2019-11-30_chunk_1.csv | 78347 +++++++++++++++\\n ...op20_ports_2019-11-01_to_2019-11-30_chunk_2.csv | 78346 +++++++++++++++\\n ...op20_ports_2019-11-01_to_2019-11-30_chunk_3.csv | 78346 +++++++++++++++\\n ...op20_ports_2019-12-01_to_2019-12-31_chunk_0.csv | 81819 ++++++++++++++++\\n ...op20_ports_2019-12-01_to_2019-12-31_chunk_1.csv | 81819 ++++++++++++++++\\n ...op20_ports_2019-12-01_to_2019-12-31_chunk_2.csv | 81819 ++++++++++++++++\\n ...op20_ports_2019-12-01_to_2019-12-31_chunk_3.csv | 81818 ++++++++++++++++\\n 49 files changed, 4163841 insertions(+)\\n create mode 100644 Data/top20_ports_2018-12-01_to_2018-12-31_chunk_0.csv\\n create mode 100644 Data/top20_ports_2018-12-01_to_2018-12-31_chunk_1.csv\\n create mode 100644 Data/top20_ports_2018-12-01_to_2018-12-31_chunk_2.csv\\n create mode 100644 Data/top20_ports_2018-12-01_to_2018-12-31_chunk_3.csv\\n create mode 100644 Data/top20_ports_2019-01-01_to_2019-01-31_chunk_0.csv\\n create mode 100644 Data/top20_ports_2019-01-01_to_2019-01-31_chunk_1.csv\\n create mode 100644 Data/top20_ports_2019-01-01_to_2019-01-31_chunk_2.csv\\n create mode 100644 Data/top20_ports_2019-01-01_to_2019-01-31_chunk_3.csv\\n create mode 100644 Data/top20_ports_2019-02-01_to_2019-02-28_chunk_0.csv\\n create mode 100644 Data/top20_ports_2019-02-01_to_2019-02-28_chunk_1.csv\\n create mode 100644 Data/top20_ports_2019-02-01_to_2019-02-28_chunk_2.csv\\n create mode 100644 Data/top20_ports_2019-02-01_to_2019-02-28_chunk_3.csv\\n create mode 100644 Data/top20_ports_2019-03-01_to_2019-03-31_chunk_0.csv\\n create mode 100644 Data/top20_ports_2019-03-01_to_2019-03-31_chunk_1.csv\\n create mode 100644 Data/top20_ports_2019-03-01_to_2019-03-31_chunk_2.csv\\n create mode 100644 Data/top20_ports_2019-03-01_to_2019-03-31_chunk_3.csv\\n create mode 100644 Data/top20_ports_2019-03-01_to_2019-03-31_chunk_4.csv\\n create mode 100644 Data/top20_ports_2019-04-01_to_2019-04-30_chunk_0.csv\\n create mode 100644 Data/top20_ports_2019-04-01_to_2019-04-30_chunk_1.csv\\n create mode 100644 Data/top20_ports_2019-04-01_to_2019-04-30_chunk_2.csv\\n create mode 100644 Data/top20_ports_2019-04-01_to_2019-04-30_chunk_3.csv\\n create mode 100644 Data/top20_ports_2019-05-01_to_2019-05-31_chunk_0.csv\\n create mode 100644 Data/top20_ports_2019-05-01_to_2019-05-31_chunk_1.csv\\n create mode 100644 Data/top20_ports_2019-05-01_to_2019-05-31_chunk_2.csv\\n create mode 100644 Data/top20_ports_2019-05-01_to_2019-05-31_chunk_3.csv\\n create mode 100644 Data/top20_ports_2019-06-01_to_2019-06-30_chunk_0.csv\\n create mode 100644 Data/top20_ports_2019-06-01_to_2019-06-30_chunk_1.csv\\n create mode 100644 Data/top20_ports_2019-06-01_to_2019-06-30_chunk_2.csv\\n create mode 100644 Data/top20_ports_2019-07-01_to_2019-07-31_chunk_0.csv\\n create mode 100644 Data/top20_ports_2019-07-01_to_2019-07-31_chunk_1.csv\\n create mode 100644 Data/top20_ports_2019-07-01_to_2019-07-31_chunk_2.csv\\n create mode 100644 Data/top20_ports_2019-08-01_to_2019-08-31_chunk_0.csv\\n create mode 100644 Data/top20_ports_2019-08-01_to_2019-08-31_chunk_1.csv\\n create mode 100644 Data/top20_ports_2019-08-01_to_2019-08-31_chunk_2.csv\\n create mode 100644 Data/top20_ports_2019-09-01_to_2019-09-30_chunk_0.csv\\n create mode 100644 Data/top20_ports_2019-09-01_to_2019-09-30_chunk_1.csv\\n create mode 100644 Data/top20_ports_2019-09-01_to_2019-09-30_chunk_2.csv\\n create mode 100644 Data/top20_ports_2019-10-01_to_2019-10-31_chunk_0.csv\\n create mode 100644 Data/top20_ports_2019-10-01_to_2019-10-31_chunk_1.csv\\n create mode 100644 Data/top20_ports_2019-10-01_to_2019-10-31_chunk_2.csv\\n create mode 100644 Data/top20_ports_2019-10-01_to_2019-10-31_chunk_3.csv\\n create mode 100644 Data/top20_ports_2019-11-01_to_2019-11-30_chunk_0.csv\\n create mode 100644 Data/top20_ports_2019-11-01_to_2019-11-30_chunk_1.csv\\n create mode 100644 Data/top20_ports_2019-11-01_to_2019-11-30_chunk_2.csv\\n create mode 100644 Data/top20_ports_2019-11-01_to_2019-11-30_chunk_3.csv\\n create mode 100644 Data/top20_ports_2019-12-01_to_2019-12-31_chunk_0.csv\\n create mode 100644 Data/top20_ports_2019-12-01_to_2019-12-31_chunk_1.csv\\n create mode 100644 Data/top20_ports_2019-12-01_to_2019-12-31_chunk_2.csv\\n create mode 100644 Data/top20_ports_2019-12-01_to_2019-12-31_chunk_3.csv\\n', stderr='From https://github.com/CSBP-CPSE/ais-data\\n   4a9c7a2..3c1ce3d  main       -> origin/main\\nUpdating files:  16% (8/49)\\nUpdating files:  18% (9/49)\\nUpdating files:  20% (10/49)\\nUpdating files:  22% (11/49)\\nUpdating files:  24% (12/49)\\nUpdating files:  26% (13/49)\\nUpdating files:  28% (14/49)\\nUpdating files:  30% (15/49)\\nUpdating files:  32% (16/49)\\nUpdating files:  34% (17/49)\\nUpdating files:  36% (18/49)\\nUpdating files:  38% (19/49)\\nUpdating files:  40% (20/49)\\nUpdating files:  42% (21/49)\\nUpdating files:  44% (22/49)\\nUpdating files:  46% (23/49)\\nUpdating files:  48% (24/49)\\nUpdating files:  51% (25/49)\\nUpdating files:  53% (26/49)\\nUpdating files:  55% (27/49)\\nUpdating files:  57% (28/49)\\nUpdating files:  59% (29/49)\\nUpdating files:  61% (30/49)\\nUpdating files:  63% (31/49)\\nUpdating files:  65% (32/49)\\nUpdating files:  67% (33/49)\\nUpdating files:  69% (34/49)\\nUpdating files:  71% (35/49)\\nUpdating files:  73% (36/49)\\nUpdating files:  75% (37/49)\\nUpdating files:  77% (38/49)\\nUpdating files:  79% (39/49)\\nUpdating files:  81% (40/49)\\nUpdating files:  83% (41/49)\\nUpdating files:  85% (42/49)\\nUpdating files:  87% (43/49)\\nUpdating files:  89% (44/49)\\nUpdating files:  91% (45/49)\\nUpdating files:  93% (46/49)\\nUpdating files:  95% (47/49)\\nUpdating files:  97% (48/49)\\nUpdating files: 100% (49/49)\\nUpdating files: 100% (49/49), done.\\n')\n"
     ]
    }
   ],
   "source": [
    "# Git pull\n",
    "std_out = subprocess.run([\"git\", \"pull\"], capture_output=True, text=True)\n",
    "print(std_out)"
   ]
  },
  {
   "cell_type": "code",
   "execution_count": 24,
   "id": "422fe0b3",
   "metadata": {},
   "outputs": [],
   "source": [
    "%%time\n",
    "# Set data path\n",
    "data_path = \"./Data/\"\n",
    "\n",
    "# Get all files that end with .csv\n",
    "csvs = [(data_path + f) for f in os.listdir(data_path) if f.endswith(\".csv\")]\n",
    "\n",
    "# Move files from GitHub to MinIO\n",
    "for f in csvs:\n",
    "    shutil.move(f, f.replace('./Data/', '../minio/standard/private/data/'))\n",
    "\n",
    "# Ensure that all files have been moved\n",
    "assert len(os.listdir(data_path)) == 0"
   ]
  },
  {
   "cell_type": "code",
   "execution_count": 25,
   "id": "8a868b23",
   "metadata": {},
   "outputs": [
    {
     "name": "stdout",
     "output_type": "stream",
     "text": [
      "CompletedProcess(args=['git', 'config', '--global', 'user.email', '\"dennishuynh3@gmail.com\"'], returncode=0, stdout='', stderr='')\n",
      "CompletedProcess(args=['git', 'config', '--global', 'user.name', '\"DennisH3\"'], returncode=0, stdout='', stderr='')\n",
      "CompletedProcess(args=['git', 'add', '.'], returncode=0, stdout='', stderr='')\n",
      "[main f968e1b] Remove data\n",
      " 52 files changed, 3494 insertions(+), 4166749 deletions(-)\n",
      " rewrite .ipynb_checkpoints/export_data-checkpoint.ipynb (65%)\n",
      " delete mode 100644 Data/top20_ports_2018-12-01_to_2018-12-31_chunk_0.csv\n",
      " delete mode 100644 Data/top20_ports_2018-12-01_to_2018-12-31_chunk_1.csv\n",
      " delete mode 100644 Data/top20_ports_2018-12-01_to_2018-12-31_chunk_2.csv\n",
      " delete mode 100644 Data/top20_ports_2018-12-01_to_2018-12-31_chunk_3.csv\n",
      " delete mode 100644 Data/top20_ports_2019-01-01_to_2019-01-31_chunk_0.csv\n",
      " delete mode 100644 Data/top20_ports_2019-01-01_to_2019-01-31_chunk_1.csv\n",
      " delete mode 100644 Data/top20_ports_2019-01-01_to_2019-01-31_chunk_2.csv\n",
      " delete mode 100644 Data/top20_ports_2019-01-01_to_2019-01-31_chunk_3.csv\n",
      " delete mode 100644 Data/top20_ports_2019-02-01_to_2019-02-28_chunk_0.csv\n",
      " delete mode 100644 Data/top20_ports_2019-02-01_to_2019-02-28_chunk_1.csv\n",
      " delete mode 100644 Data/top20_ports_2019-02-01_to_2019-02-28_chunk_2.csv\n",
      " delete mode 100644 Data/top20_ports_2019-02-01_to_2019-02-28_chunk_3.csv\n",
      " delete mode 100644 Data/top20_ports_2019-03-01_to_2019-03-31_chunk_0.csv\n",
      " delete mode 100644 Data/top20_ports_2019-03-01_to_2019-03-31_chunk_1.csv\n",
      " delete mode 100644 Data/top20_ports_2019-03-01_to_2019-03-31_chunk_2.csv\n",
      " delete mode 100644 Data/top20_ports_2019-03-01_to_2019-03-31_chunk_3.csv\n",
      " delete mode 100644 Data/top20_ports_2019-03-01_to_2019-03-31_chunk_4.csv\n",
      " delete mode 100644 Data/top20_ports_2019-04-01_to_2019-04-30_chunk_0.csv\n",
      " delete mode 100644 Data/top20_ports_2019-04-01_to_2019-04-30_chunk_1.csv\n",
      " delete mode 100644 Data/top20_ports_2019-04-01_to_2019-04-30_chunk_2.csv\n",
      " delete mode 100644 Data/top20_ports_2019-04-01_to_2019-04-30_chunk_3.csv\n",
      " delete mode 100644 Data/top20_ports_2019-05-01_to_2019-05-31_chunk_0.csv\n",
      " delete mode 100644 Data/top20_ports_2019-05-01_to_2019-05-31_chunk_1.csv\n",
      " delete mode 100644 Data/top20_ports_2019-05-01_to_2019-05-31_chunk_2.csv\n",
      " delete mode 100644 Data/top20_ports_2019-05-01_to_2019-05-31_chunk_3.csv\n",
      " delete mode 100644 Data/top20_ports_2019-06-01_to_2019-06-30_chunk_0.csv\n",
      " delete mode 100644 Data/top20_ports_2019-06-01_to_2019-06-30_chunk_1.csv\n",
      " delete mode 100644 Data/top20_ports_2019-06-01_to_2019-06-30_chunk_2.csv\n",
      " delete mode 100644 Data/top20_ports_2019-07-01_to_2019-07-31_chunk_0.csv\n",
      " delete mode 100644 Data/top20_ports_2019-07-01_to_2019-07-31_chunk_1.csv\n",
      " delete mode 100644 Data/top20_ports_2019-07-01_to_2019-07-31_chunk_2.csv\n",
      " delete mode 100644 Data/top20_ports_2019-08-01_to_2019-08-31_chunk_0.csv\n",
      " delete mode 100644 Data/top20_ports_2019-08-01_to_2019-08-31_chunk_1.csv\n",
      " delete mode 100644 Data/top20_ports_2019-08-01_to_2019-08-31_chunk_2.csv\n",
      " delete mode 100644 Data/top20_ports_2019-09-01_to_2019-09-30_chunk_0.csv\n",
      " delete mode 100644 Data/top20_ports_2019-09-01_to_2019-09-30_chunk_1.csv\n",
      " delete mode 100644 Data/top20_ports_2019-09-01_to_2019-09-30_chunk_2.csv\n",
      " delete mode 100644 Data/top20_ports_2019-10-01_to_2019-10-31_chunk_0.csv\n",
      " delete mode 100644 Data/top20_ports_2019-10-01_to_2019-10-31_chunk_1.csv\n",
      " delete mode 100644 Data/top20_ports_2019-10-01_to_2019-10-31_chunk_2.csv\n",
      " delete mode 100644 Data/top20_ports_2019-10-01_to_2019-10-31_chunk_3.csv\n",
      " delete mode 100644 Data/top20_ports_2019-11-01_to_2019-11-30_chunk_0.csv\n",
      " delete mode 100644 Data/top20_ports_2019-11-01_to_2019-11-30_chunk_1.csv\n",
      " delete mode 100644 Data/top20_ports_2019-11-01_to_2019-11-30_chunk_2.csv\n",
      " delete mode 100644 Data/top20_ports_2019-11-01_to_2019-11-30_chunk_3.csv\n",
      " delete mode 100644 Data/top20_ports_2019-12-01_to_2019-12-31_chunk_0.csv\n",
      " delete mode 100644 Data/top20_ports_2019-12-01_to_2019-12-31_chunk_1.csv\n",
      " delete mode 100644 Data/top20_ports_2019-12-01_to_2019-12-31_chunk_2.csv\n",
      " delete mode 100644 Data/top20_ports_2019-12-01_to_2019-12-31_chunk_3.csv\n",
      " rewrite export_data.ipynb (68%)\n",
      "\n"
     ]
    }
   ],
   "source": [
    "# Update Git Repo\n",
    "\n",
    "# Git Config\n",
    "std_out = subprocess.run([\"git\", \"config\", \"--global\", \"user.email\", '\"dennishuynh3@gmail.com\"'], capture_output=True, text=True)\n",
    "print(std_out)\n",
    "std_out = subprocess.run([\"git\", \"config\", \"--global\", \"user.name\", '\"DennisH3\"'], capture_output=True, text=True)\n",
    "print(std_out)\n",
    "\n",
    "# Git add and commit\n",
    "std_out = subprocess.run([\"git\", \"add\", \".\"], capture_output=True, text=True)\n",
    "print(std_out)\n",
    "std_out = subprocess.run([\"git\", \"commit\", \"-m\", \"Remove data\"], capture_output=True, text=True).stdout\n",
    "print(std_out)"
   ]
  },
  {
   "cell_type": "code",
   "execution_count": 26,
   "id": "ef1bb4ca",
   "metadata": {},
   "outputs": [
    {
     "name": "stdout",
     "output_type": "stream",
     "text": [
      "To https://github.com/CSBP-CPSE/ais-data.git\n",
      "   3c1ce3d..f968e1b  main -> main\n",
      "\n"
     ]
    }
   ],
   "source": [
    "push = \"git push --repo https://{}:{}@github.com/CSBP-CPSE/ais-data.git\".format(un, pw)\n",
    "\n",
    "std_out = subprocess.run([push], capture_output=True, text=True, shell=True).stderr\n",
    "print(std_out)"
   ]
  },
  {
   "cell_type": "code",
   "execution_count": null,
   "id": "fe1b5395",
   "metadata": {},
   "outputs": [],
   "source": []
  }
 ],
 "metadata": {
  "kernelspec": {
   "display_name": "Python 3 (ipykernel)",
   "language": "python",
   "name": "python3"
  },
  "language_info": {
   "codemirror_mode": {
    "name": "ipython",
    "version": 3
   },
   "file_extension": ".py",
   "mimetype": "text/x-python",
   "name": "python",
   "nbconvert_exporter": "python",
   "pygments_lexer": "ipython3",
   "version": "3.8.10"
  }
 },
 "nbformat": 4,
 "nbformat_minor": 5
}
